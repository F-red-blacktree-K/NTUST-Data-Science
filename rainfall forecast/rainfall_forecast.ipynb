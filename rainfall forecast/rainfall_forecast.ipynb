{
  "cells": [
    {
      "cell_type": "markdown",
      "id": "f34147dc",
      "metadata": {
        "papermill": {
          "duration": 0.015055,
          "end_time": "2022-11-23T14:39:54.730425",
          "exception": false,
          "start_time": "2022-11-23T14:39:54.715370",
          "status": "completed"
        },
        "tags": [],
        "id": "f34147dc"
      },
      "source": [
        "載入所需函式庫"
      ]
    },
    {
      "cell_type": "code",
      "execution_count": null,
      "id": "599d255a",
      "metadata": {
        "execution": {
          "iopub.execute_input": "2022-11-23T14:39:54.763254Z",
          "iopub.status.busy": "2022-11-23T14:39:54.762343Z",
          "iopub.status.idle": "2022-11-23T14:39:56.665739Z",
          "shell.execute_reply": "2022-11-23T14:39:56.664243Z"
        },
        "papermill": {
          "duration": 1.924569,
          "end_time": "2022-11-23T14:39:56.669296",
          "exception": false,
          "start_time": "2022-11-23T14:39:54.744727",
          "status": "completed"
        },
        "tags": [],
        "colab": {
          "base_uri": "https://localhost:8080/"
        },
        "id": "599d255a",
        "outputId": "ed55bb4f-42db-4a90-d8b8-c5eb3f852565"
      },
      "outputs": [
        {
          "output_type": "stream",
          "name": "stdout",
          "text": [
            "Mounted at /content/drive\n"
          ]
        }
      ],
      "source": [
        "import pandas as pd\n",
        "import numpy as np \n",
        "import matplotlib.pyplot as plt\n",
        "import seaborn as sns\n",
        "from sklearn import metrics\n",
        "from sklearn import preprocessing\n",
        "from sklearn.model_selection import train_test_split\n",
        "from sklearn.preprocessing import LabelEncoder\n",
        "from xgboost import XGBClassifier\n",
        "from imblearn.over_sampling import SMOTE\n",
        "from imblearn.under_sampling import TomekLinks\n",
        "from sklearn.neighbors import KNeighborsClassifier\n",
        "from google.colab import drive \n",
        "drive.mount(\"/content/drive\")"
      ]
    },
    {
      "cell_type": "markdown",
      "id": "726b3c60",
      "metadata": {
        "papermill": {
          "duration": 0.0137,
          "end_time": "2022-11-23T14:39:56.697251",
          "exception": false,
          "start_time": "2022-11-23T14:39:56.683551",
          "status": "completed"
        },
        "tags": [],
        "id": "726b3c60"
      },
      "source": [
        "導入資料"
      ]
    },
    {
      "cell_type": "code",
      "execution_count": null,
      "id": "14163bda",
      "metadata": {
        "execution": {
          "iopub.execute_input": "2022-11-23T14:39:56.727567Z",
          "iopub.status.busy": "2022-11-23T14:39:56.727113Z",
          "iopub.status.idle": "2022-11-23T14:39:56.811476Z",
          "shell.execute_reply": "2022-11-23T14:39:56.810144Z"
        },
        "papermill": {
          "duration": 0.10291,
          "end_time": "2022-11-23T14:39:56.814320",
          "exception": false,
          "start_time": "2022-11-23T14:39:56.711410",
          "status": "completed"
        },
        "tags": [],
        "id": "14163bda"
      },
      "outputs": [],
      "source": [
        "# df = pd.read_csv(\"/kaggle/input/2022-data-science-hw1/train.csv\")\n",
        "# test = pd.read_csv(\"/kaggle/input/2022-data-science-hw1/test.csv\")\n",
        "df = pd.read_csv(\"/content/drive/MyDrive/data mining/train.csv\")\n",
        "test = pd.read_csv(\"/content/drive/MyDrive/data mining/test.csv\")"
      ]
    },
    {
      "cell_type": "markdown",
      "id": "9f8f252b",
      "metadata": {
        "papermill": {
          "duration": 0.013203,
          "end_time": "2022-11-23T14:39:56.841953",
          "exception": false,
          "start_time": "2022-11-23T14:39:56.828750",
          "status": "completed"
        },
        "tags": [],
        "id": "9f8f252b"
      },
      "source": [
        "EDA"
      ]
    },
    {
      "cell_type": "markdown",
      "id": "ad79c3d7",
      "metadata": {
        "papermill": {
          "duration": 0.018194,
          "end_time": "2022-11-23T14:39:56.875470",
          "exception": false,
          "start_time": "2022-11-23T14:39:56.857276",
          "status": "completed"
        },
        "tags": [],
        "id": "ad79c3d7"
      },
      "source": [
        "查看有哪些特徵"
      ]
    },
    {
      "cell_type": "code",
      "execution_count": null,
      "id": "fdd989c8",
      "metadata": {
        "execution": {
          "iopub.execute_input": "2022-11-23T14:39:56.912845Z",
          "iopub.status.busy": "2022-11-23T14:39:56.911192Z",
          "iopub.status.idle": "2022-11-23T14:39:56.924775Z",
          "shell.execute_reply": "2022-11-23T14:39:56.923984Z"
        },
        "papermill": {
          "duration": 0.041261,
          "end_time": "2022-11-23T14:39:56.931602",
          "exception": false,
          "start_time": "2022-11-23T14:39:56.890341",
          "status": "completed"
        },
        "tags": [],
        "colab": {
          "base_uri": "https://localhost:8080/"
        },
        "id": "fdd989c8",
        "outputId": "d82496c7-3638-4da4-baec-bcc5025e67db"
      },
      "outputs": [
        {
          "output_type": "execute_result",
          "data": {
            "text/plain": [
              "Index(['Attribute1', 'Attribute2', 'Attribute3', 'Attribute4', 'Attribute5',\n",
              "       'Attribute6', 'Attribute7', 'Attribute8', 'Attribute9', 'Attribute10',\n",
              "       'Attribute11', 'Attribute12', 'Attribute13', 'Attribute14',\n",
              "       'Attribute15', 'Attribute16', 'Attribute17'],\n",
              "      dtype='object')"
            ]
          },
          "metadata": {},
          "execution_count": 400
        }
      ],
      "source": [
        "col_names = df.columns\n",
        "col_names"
      ]
    },
    {
      "cell_type": "code",
      "execution_count": null,
      "id": "48056c8e",
      "metadata": {
        "execution": {
          "iopub.execute_input": "2022-11-23T14:39:56.971736Z",
          "iopub.status.busy": "2022-11-23T14:39:56.971282Z",
          "iopub.status.idle": "2022-11-23T14:39:56.989660Z",
          "shell.execute_reply": "2022-11-23T14:39:56.988527Z"
        },
        "papermill": {
          "duration": 0.043141,
          "end_time": "2022-11-23T14:39:56.992275",
          "exception": false,
          "start_time": "2022-11-23T14:39:56.949134",
          "status": "completed"
        },
        "tags": [],
        "colab": {
          "base_uri": "https://localhost:8080/"
        },
        "id": "48056c8e",
        "outputId": "226066f1-2547-491b-d5f2-59e717905ae4"
      },
      "outputs": [
        {
          "output_type": "execute_result",
          "data": {
            "text/plain": [
              "Attribute1        0\n",
              "Attribute2        0\n",
              "Attribute3       71\n",
              "Attribute4       32\n",
              "Attribute5      161\n",
              "Attribute6     7401\n",
              "Attribute7     8231\n",
              "Attribute8     1093\n",
              "Attribute9     1086\n",
              "Attribute10     432\n",
              "Attribute11     306\n",
              "Attribute12     415\n",
              "Attribute13    1669\n",
              "Attribute14    6952\n",
              "Attribute15     294\n",
              "Attribute16     161\n",
              "Attribute17       0\n",
              "dtype: int64"
            ]
          },
          "metadata": {},
          "execution_count": 401
        }
      ],
      "source": [
        "df.isnull().sum()"
      ]
    },
    {
      "cell_type": "markdown",
      "id": "7e76aa79",
      "metadata": {
        "papermill": {
          "duration": 0.014433,
          "end_time": "2022-11-23T14:39:57.022161",
          "exception": false,
          "start_time": "2022-11-23T14:39:57.007728",
          "status": "completed"
        },
        "tags": [],
        "id": "7e76aa79"
      },
      "source": [
        "查看目標值的分佈情況"
      ]
    },
    {
      "cell_type": "code",
      "execution_count": null,
      "id": "463d8691",
      "metadata": {
        "execution": {
          "iopub.execute_input": "2022-11-23T14:39:57.053922Z",
          "iopub.status.busy": "2022-11-23T14:39:57.052956Z",
          "iopub.status.idle": "2022-11-23T14:39:57.249986Z",
          "shell.execute_reply": "2022-11-23T14:39:57.248690Z"
        },
        "papermill": {
          "duration": 0.219173,
          "end_time": "2022-11-23T14:39:57.256427",
          "exception": false,
          "start_time": "2022-11-23T14:39:57.037254",
          "status": "completed"
        },
        "tags": [],
        "colab": {
          "base_uri": "https://localhost:8080/"
        },
        "id": "463d8691",
        "outputId": "5d5ade43-e062-4e08-ce6f-65af0ef2d5e6"
      },
      "outputs": [
        {
          "output_type": "display_data",
          "data": {
            "text/plain": [
              "<Figure size 576x360 with 1 Axes>"
            ],
            "image/png": "[encoded data removed]"
          },
          "metadata": {}
        }
      ],
      "source": [
        "plt.figure( figsize=(8,5) )\n",
        "df[\"Attribute17\"].value_counts().plot( kind='pie', colors=['lightcoral','skyblue'], autopct='%1.2f%%' )\n",
        "plt.title( 'Attribute17' ) \n",
        "plt.show()"
      ]
    },
    {
      "cell_type": "code",
      "execution_count": null,
      "id": "cf9d9eb1",
      "metadata": {
        "execution": {
          "iopub.execute_input": "2022-11-23T14:39:57.321103Z",
          "iopub.status.busy": "2022-11-23T14:39:57.320194Z",
          "iopub.status.idle": "2022-11-23T14:39:57.329690Z",
          "shell.execute_reply": "2022-11-23T14:39:57.328831Z"
        },
        "papermill": {
          "duration": 0.037282,
          "end_time": "2022-11-23T14:39:57.331932",
          "exception": false,
          "start_time": "2022-11-23T14:39:57.294650",
          "status": "completed"
        },
        "tags": [],
        "colab": {
          "base_uri": "https://localhost:8080/"
        },
        "id": "cf9d9eb1",
        "outputId": "c9c64b3a-dd76-4a2e-961b-166f581fe2be"
      },
      "outputs": [
        {
          "output_type": "execute_result",
          "data": {
            "text/plain": [
              "No     13965\n",
              "Yes     3138\n",
              "Name: Attribute17, dtype: int64"
            ]
          },
          "metadata": {},
          "execution_count": 403
        }
      ],
      "source": [
        "df['Attribute17'].value_counts(dropna=False)"
      ]
    },
    {
      "cell_type": "markdown",
      "id": "15552254",
      "metadata": {
        "papermill": {
          "duration": 0.014357,
          "end_time": "2022-11-23T14:39:57.361163",
          "exception": false,
          "start_time": "2022-11-23T14:39:57.346806",
          "status": "completed"
        },
        "tags": [],
        "id": "15552254"
      },
      "source": [
        "先將類別型資料轉換成數值型"
      ]
    },
    {
      "cell_type": "code",
      "execution_count": null,
      "id": "8cbbb9bd",
      "metadata": {
        "execution": {
          "iopub.execute_input": "2022-11-23T14:39:57.393023Z",
          "iopub.status.busy": "2022-11-23T14:39:57.392221Z",
          "iopub.status.idle": "2022-11-23T14:39:57.431654Z",
          "shell.execute_reply": "2022-11-23T14:39:57.430248Z"
        },
        "papermill": {
          "duration": 0.058562,
          "end_time": "2022-11-23T14:39:57.434595",
          "exception": false,
          "start_time": "2022-11-23T14:39:57.376033",
          "status": "completed"
        },
        "tags": [],
        "id": "8cbbb9bd"
      },
      "outputs": [],
      "source": [
        "le = LabelEncoder()\n",
        "df['Attribute1'] = le.fit_transform(df[\"Attribute1\"])\n",
        "df['Attribute8'] = le.fit_transform(df[\"Attribute8\"])\n",
        "df['Attribute10'] = le.fit_transform(df[\"Attribute10\"])\n",
        "df['Attribute16'] = le.fit_transform(df[\"Attribute16\"])\n",
        "df['Attribute17'] = le.fit_transform(df[\"Attribute17\"])\n"
      ]
    },
    {
      "cell_type": "markdown",
      "id": "47e91e90",
      "metadata": {
        "papermill": {
          "duration": 0.014848,
          "end_time": "2022-11-23T14:39:57.464326",
          "exception": false,
          "start_time": "2022-11-23T14:39:57.449478",
          "status": "completed"
        },
        "tags": [],
        "id": "47e91e90"
      },
      "source": [
        "查看下雨與其他特徵的關聯性"
      ]
    },
    {
      "cell_type": "code",
      "execution_count": null,
      "id": "196e1ac5",
      "metadata": {
        "execution": {
          "iopub.execute_input": "2022-11-23T14:39:57.495617Z",
          "iopub.status.busy": "2022-11-23T14:39:57.495127Z",
          "iopub.status.idle": "2022-11-23T14:39:57.526103Z",
          "shell.execute_reply": "2022-11-23T14:39:57.524739Z"
        },
        "papermill": {
          "duration": 0.049783,
          "end_time": "2022-11-23T14:39:57.528859",
          "exception": false,
          "start_time": "2022-11-23T14:39:57.479076",
          "status": "completed"
        },
        "tags": [],
        "colab": {
          "base_uri": "https://localhost:8080/"
        },
        "id": "196e1ac5",
        "outputId": "761deb73-0c0e-4557-f5e7-7e24c9e0a44f"
      },
      "outputs": [
        {
          "output_type": "execute_result",
          "data": {
            "text/plain": [
              "Attribute1    -0.009174\n",
              "Attribute2     0.008545\n",
              "Attribute3     0.068023\n",
              "Attribute4    -0.156697\n",
              "Attribute5     0.244154\n",
              "Attribute6    -0.114719\n",
              "Attribute7    -0.424726\n",
              "Attribute8     0.059240\n",
              "Attribute9     0.227106\n",
              "Attribute10    0.038399\n",
              "Attribute11    0.087635\n",
              "Attribute12    0.420108\n",
              "Attribute13   -0.216335\n",
              "Attribute14    0.343738\n",
              "Attribute15   -0.186541\n",
              "Attribute16    0.290959\n",
              "Attribute17    1.000000\n",
              "Name: Attribute17, dtype: float64"
            ]
          },
          "metadata": {},
          "execution_count": 405
        }
      ],
      "source": [
        "df.corr()[\"Attribute17\"]"
      ]
    },
    {
      "cell_type": "markdown",
      "id": "8efe7fef",
      "metadata": {
        "papermill": {
          "duration": 0.014444,
          "end_time": "2022-11-23T14:39:57.557703",
          "exception": false,
          "start_time": "2022-11-23T14:39:57.543259",
          "status": "completed"
        },
        "tags": [],
        "id": "8efe7fef"
      },
      "source": [
        "與目標較無關聯的特徵"
      ]
    },
    {
      "cell_type": "code",
      "execution_count": null,
      "id": "2ec7b881",
      "metadata": {
        "execution": {
          "iopub.execute_input": "2022-11-23T14:39:57.589525Z",
          "iopub.status.busy": "2022-11-23T14:39:57.589103Z",
          "iopub.status.idle": "2022-11-23T14:39:57.613853Z",
          "shell.execute_reply": "2022-11-23T14:39:57.612815Z"
        },
        "papermill": {
          "duration": 0.043853,
          "end_time": "2022-11-23T14:39:57.616516",
          "exception": false,
          "start_time": "2022-11-23T14:39:57.572663",
          "status": "completed"
        },
        "tags": [],
        "colab": {
          "base_uri": "https://localhost:8080/"
        },
        "id": "2ec7b881",
        "outputId": "60545a31-3cff-4d73-a522-6ef8e3479c8c"
      },
      "outputs": [
        {
          "output_type": "stream",
          "name": "stdout",
          "text": [
            "Index(['Attribute1', 'Attribute2', 'Attribute3', 'Attribute8', 'Attribute10',\n",
            "       'Attribute11'],\n",
            "      dtype='object')\n"
          ]
        }
      ],
      "source": [
        "print(df.columns[df.corr()[\"Attribute17\"].abs() < 0.1])"
      ]
    },
    {
      "cell_type": "markdown",
      "id": "272f36a3",
      "metadata": {
        "papermill": {
          "duration": 0.014944,
          "end_time": "2022-11-23T14:39:57.646455",
          "exception": false,
          "start_time": "2022-11-23T14:39:57.631511",
          "status": "completed"
        },
        "tags": [],
        "id": "272f36a3"
      },
      "source": [
        "與目標較有關聯的特徵"
      ]
    },
    {
      "cell_type": "code",
      "execution_count": null,
      "id": "1d201eea",
      "metadata": {
        "execution": {
          "iopub.execute_input": "2022-11-23T14:39:57.678941Z",
          "iopub.status.busy": "2022-11-23T14:39:57.677740Z",
          "iopub.status.idle": "2022-11-23T14:39:57.704257Z",
          "shell.execute_reply": "2022-11-23T14:39:57.702149Z"
        },
        "papermill": {
          "duration": 0.045587,
          "end_time": "2022-11-23T14:39:57.707025",
          "exception": false,
          "start_time": "2022-11-23T14:39:57.661438",
          "status": "completed"
        },
        "tags": [],
        "colab": {
          "base_uri": "https://localhost:8080/"
        },
        "id": "1d201eea",
        "outputId": "3b6d7bc1-42c3-4389-ff9d-bdbe6c1ae34e"
      },
      "outputs": [
        {
          "output_type": "stream",
          "name": "stdout",
          "text": [
            "Index(['Attribute4', 'Attribute5', 'Attribute6', 'Attribute7', 'Attribute9',\n",
            "       'Attribute12', 'Attribute13', 'Attribute14', 'Attribute15',\n",
            "       'Attribute16', 'Attribute17'],\n",
            "      dtype='object')\n"
          ]
        }
      ],
      "source": [
        "print(df.columns[df.corr()[\"Attribute17\"].abs() > 0.1])"
      ]
    },
    {
      "cell_type": "markdown",
      "id": "3c9efe9a",
      "metadata": {
        "papermill": {
          "duration": 0.014192,
          "end_time": "2022-11-23T14:39:57.735765",
          "exception": false,
          "start_time": "2022-11-23T14:39:57.721573",
          "status": "completed"
        },
        "tags": [],
        "id": "3c9efe9a"
      },
      "source": [
        "可以得知最高溫度、降雨量、蒸發量、陽光出現時數、陣風速度，下午三點相對溼度，雲層覆蓋天空比例等等資訊較有關連\n",
        "\n",
        "反之日期、氣象站地區、最強陣風方向、下午三點的風向與目標較無關聯"
      ]
    },
    {
      "cell_type": "markdown",
      "id": "e2ac0e22",
      "metadata": {
        "papermill": {
          "duration": 0.014266,
          "end_time": "2022-11-23T14:39:57.764999",
          "exception": false,
          "start_time": "2022-11-23T14:39:57.750733",
          "status": "completed"
        },
        "tags": [],
        "id": "e2ac0e22"
      },
      "source": [
        "查看其他特徵的分佈狀況"
      ]
    },
    {
      "cell_type": "code",
      "execution_count": null,
      "id": "28f7babe",
      "metadata": {
        "execution": {
          "iopub.execute_input": "2022-11-23T14:39:57.796707Z",
          "iopub.status.busy": "2022-11-23T14:39:57.796222Z",
          "iopub.status.idle": "2022-11-23T14:40:12.303347Z",
          "shell.execute_reply": "2022-11-23T14:40:12.302547Z"
        },
        "papermill": {
          "duration": 14.525855,
          "end_time": "2022-11-23T14:40:12.305803",
          "exception": false,
          "start_time": "2022-11-23T14:39:57.779948",
          "status": "completed"
        },
        "tags": [],
        "colab": {
          "base_uri": "https://localhost:8080/",
          "height": 1000
        },
        "id": "28f7babe",
        "outputId": "f513463d-2713-44d2-81b6-b0273f46f077"
      },
      "outputs": [
        {
          "output_type": "stream",
          "name": "stdout",
          "text": [
            "偏態+峰度: \n",
            "--------------------------------\n",
            "Attribute1:\n",
            "偏態: -0.05\n",
            "峰度: -1.18\n",
            "Attribute1分佈圖:\n"
          ]
        },
        {
          "output_type": "display_data",
          "data": {
            "text/plain": [
              "<Figure size 360x360 with 1 Axes>"
            ],
            "image/png": "[encoded data removed]"
          },
          "metadata": {
            "needs_background": "light"
          }
        },
        {
          "output_type": "stream",
          "name": "stdout",
          "text": [
            "--------------------------------\n",
            "--------------------------------\n",
            "Attribute2:\n",
            "偏態: 0.02\n",
            "峰度: -1.24\n",
            "Attribute2分佈圖:\n"
          ]
        },
        {
          "output_type": "display_data",
          "data": {
            "text/plain": [
              "<Figure size 360x360 with 1 Axes>"
            ],
            "image/png": "[encoded data removed]"
          },
          "metadata": {
            "needs_background": "light"
          }
        },
        {
          "output_type": "stream",
          "name": "stdout",
          "text": [
            "--------------------------------\n",
            "--------------------------------\n",
            "Attribute3:\n",
            "偏態: 0.01\n",
            "峰度: -0.47\n",
            "Attribute3分佈圖:\n"
          ]
        },
        {
          "output_type": "display_data",
          "data": {
            "text/plain": [
              "<Figure size 360x360 with 1 Axes>"
            ],
            "image/png": "[encoded data removed]"
          },
          "metadata": {
            "needs_background": "light"
          }
        },
        {
          "output_type": "stream",
          "name": "stdout",
          "text": [
            "--------------------------------\n",
            "--------------------------------\n",
            "Attribute4:\n",
            "偏態: 0.23\n",
            "峰度: -0.25\n",
            "Attribute4分佈圖:\n"
          ]
        },
        {
          "output_type": "display_data",
          "data": {
            "text/plain": [
              "<Figure size 360x360 with 1 Axes>"
            ],
            "image/png": "[encoded data removed]"
          },
          "metadata": {
            "needs_background": "light"
          }
        },
        {
          "output_type": "stream",
          "name": "stdout",
          "text": [
            "--------------------------------\n",
            "--------------------------------\n",
            "Attribute5:\n",
            "偏態: 8.30\n",
            "峰度: 100.25\n",
            "Attribute5分佈圖:\n"
          ]
        },
        {
          "output_type": "display_data",
          "data": {
            "text/plain": [
              "<Figure size 360x360 with 1 Axes>"
            ],
            "image/png": "[encoded data removed]"
          },
          "metadata": {
            "needs_background": "light"
          }
        },
        {
          "output_type": "stream",
          "name": "stdout",
          "text": [
            "--------------------------------\n",
            "--------------------------------\n",
            "Attribute6:\n",
            "偏態: 3.60\n",
            "峰度: 34.26\n",
            "Attribute6分佈圖:\n"
          ]
        },
        {
          "output_type": "display_data",
          "data": {
            "text/plain": [
              "<Figure size 360x360 with 1 Axes>"
            ],
            "image/png": "[encoded data removed]"
          },
          "metadata": {
            "needs_background": "light"
          }
        },
        {
          "output_type": "stream",
          "name": "stdout",
          "text": [
            "--------------------------------\n",
            "--------------------------------\n",
            "Attribute7:\n",
            "偏態: -0.56\n",
            "峰度: -0.71\n",
            "Attribute7分佈圖:\n"
          ]
        },
        {
          "output_type": "display_data",
          "data": {
            "text/plain": [
              "<Figure size 360x360 with 1 Axes>"
            ],
            "image/png": "[encoded data removed]"
          },
          "metadata": {
            "needs_background": "light"
          }
        },
        {
          "output_type": "stream",
          "name": "stdout",
          "text": [
            "--------------------------------\n",
            "--------------------------------\n",
            "Attribute8:\n",
            "偏態: -0.11\n",
            "峰度: -1.21\n",
            "Attribute8分佈圖:\n"
          ]
        },
        {
          "output_type": "display_data",
          "data": {
            "text/plain": [
              "<Figure size 360x360 with 1 Axes>"
            ],
            "image/png": "[encoded data removed]"
          },
          "metadata": {
            "needs_background": "light"
          }
        },
        {
          "output_type": "stream",
          "name": "stdout",
          "text": [
            "--------------------------------\n",
            "--------------------------------\n",
            "Attribute9:\n",
            "偏態: 0.92\n",
            "峰度: 1.74\n",
            "Attribute9分佈圖:\n"
          ]
        },
        {
          "output_type": "display_data",
          "data": {
            "text/plain": [
              "<Figure size 360x360 with 1 Axes>"
            ],
            "image/png": "[encoded data removed]"
          },
          "metadata": {
            "needs_background": "light"
          }
        },
        {
          "output_type": "stream",
          "name": "stdout",
          "text": [
            "--------------------------------\n",
            "--------------------------------\n",
            "Attribute10:\n",
            "偏態: -0.08\n",
            "峰度: -1.17\n",
            "Attribute10分佈圖:\n"
          ]
        },
        {
          "output_type": "display_data",
          "data": {
            "text/plain": [
              "<Figure size 360x360 with 1 Axes>"
            ],
            "image/png": "[encoded data removed]"
          },
          "metadata": {
            "needs_background": "light"
          }
        },
        {
          "output_type": "stream",
          "name": "stdout",
          "text": [
            "--------------------------------\n",
            "--------------------------------\n",
            "Attribute11:\n",
            "偏態: 0.65\n",
            "峰度: 0.84\n",
            "Attribute11分佈圖:\n"
          ]
        },
        {
          "output_type": "display_data",
          "data": {
            "text/plain": [
              "<Figure size 360x360 with 1 Axes>"
            ],
            "image/png": "[encoded data removed]"
          },
          "metadata": {
            "needs_background": "light"
          }
        },
        {
          "output_type": "stream",
          "name": "stdout",
          "text": [
            "--------------------------------\n",
            "--------------------------------\n",
            "Attribute12:\n",
            "偏態: 0.03\n",
            "峰度: -0.49\n",
            "Attribute12分佈圖:\n"
          ]
        },
        {
          "output_type": "display_data",
          "data": {
            "text/plain": [
              "<Figure size 360x360 with 1 Axes>"
            ],
            "image/png": "[encoded data removed]"
          },
          "metadata": {
            "needs_background": "light"
          }
        },
        {
          "output_type": "stream",
          "name": "stdout",
          "text": [
            "--------------------------------\n",
            "--------------------------------\n",
            "Attribute13:\n",
            "偏態: -0.05\n",
            "峰度: 0.17\n",
            "Attribute13分佈圖:\n"
          ]
        },
        {
          "output_type": "display_data",
          "data": {
            "text/plain": [
              "<Figure size 360x360 with 1 Axes>"
            ],
            "image/png": "[encoded data removed]"
          },
          "metadata": {
            "needs_background": "light"
          }
        },
        {
          "output_type": "stream",
          "name": "stdout",
          "text": [
            "--------------------------------\n",
            "--------------------------------\n",
            "Attribute14:\n",
            "偏態: -0.19\n",
            "峰度: -1.46\n",
            "Attribute14分佈圖:\n"
          ]
        },
        {
          "output_type": "display_data",
          "data": {
            "text/plain": [
              "<Figure size 360x360 with 1 Axes>"
            ],
            "image/png": "[encoded data removed]"
          },
          "metadata": {
            "needs_background": "light"
          }
        },
        {
          "output_type": "stream",
          "name": "stdout",
          "text": [
            "--------------------------------\n",
            "--------------------------------\n",
            "Attribute15:\n",
            "偏態: 0.25\n",
            "峰度: -0.15\n",
            "Attribute15分佈圖:\n"
          ]
        },
        {
          "output_type": "display_data",
          "data": {
            "text/plain": [
              "<Figure size 360x360 with 1 Axes>"
            ],
            "image/png": "[encoded data removed]"
          },
          "metadata": {
            "needs_background": "light"
          }
        },
        {
          "output_type": "stream",
          "name": "stdout",
          "text": [
            "--------------------------------\n",
            "--------------------------------\n",
            "Attribute16:\n",
            "偏態: 1.63\n",
            "峰度: 1.48\n",
            "Attribute16分佈圖:\n"
          ]
        },
        {
          "output_type": "display_data",
          "data": {
            "text/plain": [
              "<Figure size 360x360 with 1 Axes>"
            ],
            "image/png": "[encoded data removed]"
          },
          "metadata": {
            "needs_background": "light"
          }
        },
        {
          "output_type": "stream",
          "name": "stdout",
          "text": [
            "--------------------------------\n",
            "--------------------------------\n",
            "Attribute17:\n",
            "偏態: 1.64\n",
            "峰度: 0.68\n",
            "Attribute17分佈圖:\n"
          ]
        },
        {
          "output_type": "display_data",
          "data": {
            "text/plain": [
              "<Figure size 360x360 with 1 Axes>"
            ],
            "image/png": "[encoded data removed]"
          },
          "metadata": {
            "needs_background": "light"
          }
        },
        {
          "output_type": "stream",
          "name": "stdout",
          "text": [
            "--------------------------------\n"
          ]
        }
      ],
      "source": [
        "def Skewness_Kurtosis_distributed(df_name, feature_name):\n",
        "  print(\"--------------------------------\")\n",
        "  print(feature_name + \":\")\n",
        "  print(\"偏態: {:.2f}\".format(df_name[feature_name].skew()))\n",
        "  print(\"峰度: {:.2f}\".format(df_name[feature_name].kurt()))\n",
        "  print(feature_name + \"分佈圖:\")\n",
        "  sns.displot(df_name[feature_name], kde=True)\n",
        "  plt.show()\n",
        "  print(\"--------------------------------\")\n",
        "\n",
        "\n",
        "print(\"偏態+峰度: \")\n",
        "for i in df:\n",
        "  Skewness_Kurtosis_distributed(df, i)"
      ]
    },
    {
      "cell_type": "markdown",
      "id": "79dcb2fc",
      "metadata": {
        "papermill": {
          "duration": 0.021976,
          "end_time": "2022-11-23T14:40:12.350749",
          "exception": false,
          "start_time": "2022-11-23T14:40:12.328773",
          "status": "completed"
        },
        "tags": [],
        "id": "79dcb2fc"
      },
      "source": [
        "從將資料視覺化後可得知特徵3、4、5、6、13、15峰值較高，特徵5、6、9、11右偏，特徵13左偏"
      ]
    },
    {
      "cell_type": "markdown",
      "id": "dcb1d8f9",
      "metadata": {
        "papermill": {
          "duration": 0.021703,
          "end_time": "2022-11-23T14:40:12.394802",
          "exception": false,
          "start_time": "2022-11-23T14:40:12.373099",
          "status": "completed"
        },
        "tags": [],
        "id": "dcb1d8f9"
      },
      "source": [
        "利用箱型圖檢測離群值"
      ]
    },
    {
      "cell_type": "code",
      "execution_count": null,
      "id": "e31c3a09",
      "metadata": {
        "execution": {
          "iopub.execute_input": "2022-11-23T14:40:12.441657Z",
          "iopub.status.busy": "2022-11-23T14:40:12.441228Z",
          "iopub.status.idle": "2022-11-23T14:40:15.241211Z",
          "shell.execute_reply": "2022-11-23T14:40:15.239948Z"
        },
        "papermill": {
          "duration": 2.826723,
          "end_time": "2022-11-23T14:40:15.243879",
          "exception": false,
          "start_time": "2022-11-23T14:40:12.417156",
          "status": "completed"
        },
        "tags": [],
        "colab": {
          "base_uri": "https://localhost:8080/",
          "height": 1000
        },
        "id": "e31c3a09",
        "outputId": "17f83e49-d2ca-4443-8a37-dc7f9e80fb3e"
      },
      "outputs": [
        {
          "output_type": "display_data",
          "data": {
            "text/plain": [
              "<Figure size 144x216 with 1 Axes>"
            ],
            "image/png": "[encoded data removed]"
          },
          "metadata": {
            "needs_background": "light"
          }
        },
        {
          "output_type": "display_data",
          "data": {
            "text/plain": [
              "<Figure size 144x216 with 1 Axes>"
            ],
            "image/png": "[encoded data removed]"
          },
          "metadata": {
            "needs_background": "light"
          }
        },
        {
          "output_type": "display_data",
          "data": {
            "text/plain": [
              "<Figure size 144x216 with 1 Axes>"
            ],
            "image/png": "[encoded data removed]"
          },
          "metadata": {
            "needs_background": "light"
          }
        },
        {
          "output_type": "display_data",
          "data": {
            "text/plain": [
              "<Figure size 144x216 with 1 Axes>"
            ],
            "image/png": "[encoded data removed]"
          },
          "metadata": {
            "needs_background": "light"
          }
        },
        {
          "output_type": "display_data",
          "data": {
            "text/plain": [
              "<Figure size 144x216 with 1 Axes>"
            ],
            "image/png": "[encoded data removed]"
          },
          "metadata": {
            "needs_background": "light"
          }
        },
        {
          "output_type": "display_data",
          "data": {
            "text/plain": [
              "<Figure size 144x216 with 1 Axes>"
            ],
            "image/png": "[encoded data removed]"
          },
          "metadata": {
            "needs_background": "light"
          }
        },
        {
          "output_type": "display_data",
          "data": {
            "text/plain": [
              "<Figure size 144x216 with 1 Axes>"
            ],
            "image/png": "[encoded data removed]"
          },
          "metadata": {
            "needs_background": "light"
          }
        },
        {
          "output_type": "display_data",
          "data": {
            "text/plain": [
              "<Figure size 144x216 with 1 Axes>"
            ],
            "image/png": "[encoded data removed]"
          },
          "metadata": {
            "needs_background": "light"
          }
        },
        {
          "output_type": "display_data",
          "data": {
            "text/plain": [
              "<Figure size 144x216 with 1 Axes>"
            ],
            "image/png": "[encoded data removed]"
          },
          "metadata": {
            "needs_background": "light"
          }
        },
        {
          "output_type": "display_data",
          "data": {
            "text/plain": [
              "<Figure size 144x216 with 1 Axes>"
            ],
            "image/png": "[encoded data removed]"
          },
          "metadata": {
            "needs_background": "light"
          }
        },
        {
          "output_type": "display_data",
          "data": {
            "text/plain": [
              "<Figure size 144x216 with 1 Axes>"
            ],
            "image/png": "[encoded data removed]"
          },
          "metadata": {
            "needs_background": "light"
          }
        },
        {
          "output_type": "display_data",
          "data": {
            "text/plain": [
              "<Figure size 144x216 with 1 Axes>"
            ],
            "image/png": "[encoded data removed]"
          },
          "metadata": {
            "needs_background": "light"
          }
        },
        {
          "output_type": "display_data",
          "data": {
            "text/plain": [
              "<Figure size 144x216 with 1 Axes>"
            ],
            "image/png": "[encoded data removed]"
          },
          "metadata": {
            "needs_background": "light"
          }
        },
        {
          "output_type": "display_data",
          "data": {
            "text/plain": [
              "<Figure size 144x216 with 1 Axes>"
            ],
            "image/png": "[encoded data removed]"
          },
          "metadata": {
            "needs_background": "light"
          }
        },
        {
          "output_type": "display_data",
          "data": {
            "text/plain": [
              "<Figure size 144x216 with 1 Axes>"
            ],
            "image/png": "[encoded data removed]"
          },
          "metadata": {
            "needs_background": "light"
          }
        },
        {
          "output_type": "display_data",
          "data": {
            "text/plain": [
              "<Figure size 144x216 with 1 Axes>"
            ],
            "image/png": "[encoded data removed]"
          },
          "metadata": {
            "needs_background": "light"
          }
        },
        {
          "output_type": "display_data",
          "data": {
            "text/plain": [
              "<Figure size 144x216 with 1 Axes>"
            ],
            "image/png": "[encoded data removed]"
          },
          "metadata": {
            "needs_background": "light"
          }
        }
      ],
      "source": [
        "def Detect_outliers(df, feature_name):\n",
        "  plt.figure(figsize=(2,3))\n",
        "  df.boxplot(column = feature_name, grid = False, showmeans = True)\n",
        "\n",
        "for i in df:\n",
        "  Detect_outliers(df, i)"
      ]
    },
    {
      "cell_type": "markdown",
      "id": "cc154cb7",
      "metadata": {
        "papermill": {
          "duration": 0.025146,
          "end_time": "2022-11-23T14:40:15.294032",
          "exception": false,
          "start_time": "2022-11-23T14:40:15.268886",
          "status": "completed"
        },
        "tags": [],
        "id": "cc154cb7"
      },
      "source": [
        "可以得知特徵4、5的離群值非常多"
      ]
    },
    {
      "cell_type": "markdown",
      "id": "7c27ec76",
      "metadata": {
        "papermill": {
          "duration": 0.025254,
          "end_time": "2022-11-23T14:40:15.344893",
          "exception": false,
          "start_time": "2022-11-23T14:40:15.319639",
          "status": "completed"
        },
        "tags": [],
        "id": "7c27ec76"
      },
      "source": [
        "對訓練資料做處理"
      ]
    },
    {
      "cell_type": "markdown",
      "id": "2f3d3bab",
      "metadata": {
        "papermill": {
          "duration": 0.025002,
          "end_time": "2022-11-23T14:40:15.395278",
          "exception": false,
          "start_time": "2022-11-23T14:40:15.370276",
          "status": "completed"
        },
        "tags": [],
        "id": "2f3d3bab"
      },
      "source": [
        "將與預測目標無關的特徵移除"
      ]
    },
    {
      "cell_type": "code",
      "execution_count": null,
      "id": "bef7fae1",
      "metadata": {
        "execution": {
          "iopub.execute_input": "2022-11-23T14:40:15.448052Z",
          "iopub.status.busy": "2022-11-23T14:40:15.447622Z",
          "iopub.status.idle": "2022-11-23T14:40:15.486267Z",
          "shell.execute_reply": "2022-11-23T14:40:15.485324Z"
        },
        "papermill": {
          "duration": 0.068071,
          "end_time": "2022-11-23T14:40:15.488586",
          "exception": false,
          "start_time": "2022-11-23T14:40:15.420515",
          "status": "completed"
        },
        "tags": [],
        "colab": {
          "base_uri": "https://localhost:8080/",
          "height": 468
        },
        "id": "bef7fae1",
        "outputId": "a6b14a9a-99f8-44f8-b2c4-b2955b8d33ea"
      },
      "outputs": [
        {
          "output_type": "execute_result",
          "data": {
            "text/plain": [
              "       Attribute4  Attribute5  Attribute6  Attribute7  Attribute9  \\\n",
              "0            28.0         0.0         NaN         NaN        24.0   \n",
              "1            26.7         0.0         NaN         NaN        35.0   \n",
              "2            21.7         2.2         NaN         NaN        31.0   \n",
              "3            18.6        15.6         NaN         NaN        61.0   \n",
              "4            37.9         0.0         NaN         NaN        52.0   \n",
              "...           ...         ...         ...         ...         ...   \n",
              "17098        22.2         0.0         NaN         NaN        37.0   \n",
              "17099        21.7         0.0         NaN         NaN        43.0   \n",
              "17100        19.1         0.0         NaN         NaN        33.0   \n",
              "17101        20.6         0.0         NaN         NaN        35.0   \n",
              "17102        23.4         0.0         NaN         NaN        31.0   \n",
              "\n",
              "       Attribute12  Attribute13  Attribute14  Attribute15  Attribute16  \\\n",
              "0             16.0       1012.8          NaN         26.5            0   \n",
              "1             19.0       1010.1          NaN         25.5            0   \n",
              "2             91.0       1004.2          8.0         17.0            1   \n",
              "3             93.0        993.0          8.0         15.8            1   \n",
              "4              8.0       1006.7          NaN         36.8            0   \n",
              "...            ...          ...          ...          ...          ...   \n",
              "17098         34.0       1021.7          8.0         21.0            0   \n",
              "17099         19.0       1025.0          NaN         20.5            0   \n",
              "17100         24.0       1026.2          NaN         18.8            0   \n",
              "17101         33.0       1023.3          NaN         20.3            0   \n",
              "17102         24.0       1020.3          NaN         22.4            0   \n",
              "\n",
              "       Attribute17  \n",
              "0                0  \n",
              "1                0  \n",
              "2                1  \n",
              "3                1  \n",
              "4                0  \n",
              "...            ...  \n",
              "17098            0  \n",
              "17099            0  \n",
              "17100            0  \n",
              "17101            0  \n",
              "17102            0  \n",
              "\n",
              "[17103 rows x 11 columns]"
            ],
            "text/html": [
              "\n",
              "  <div id=\"df-eb16358f-ebca-4012-bd1b-4f38dd78372d\">\n",
              "    <div class=\"colab-df-container\">\n",
              "      <div>\n",
              "<style scoped>\n",
              "    .dataframe tbody tr th:only-of-type {\n",
              "        vertical-align: middle;\n",
              "    }\n",
              "\n",
              "    .dataframe tbody tr th {\n",
              "        vertical-align: top;\n",
              "    }\n",
              "\n",
              "    .dataframe thead th {\n",
              "        text-align: right;\n",
              "    }\n",
              "</style>\n",
              "<table border=\"1\" class=\"dataframe\">\n",
              "  <thead>\n",
              "    <tr style=\"text-align: right;\">\n",
              "      <th></th>\n",
              "      <th>Attribute4</th>\n",
              "      <th>Attribute5</th>\n",
              "      <th>Attribute6</th>\n",
              "      <th>Attribute7</th>\n",
              "      <th>Attribute9</th>\n",
              "      <th>Attribute12</th>\n",
              "      <th>Attribute13</th>\n",
              "      <th>Attribute14</th>\n",
              "      <th>Attribute15</th>\n",
              "      <th>Attribute16</th>\n",
              "      <th>Attribute17</th>\n",
              "    </tr>\n",
              "  </thead>\n",
              "  <tbody>\n",
              "    <tr>\n",
              "      <th>0</th>\n",
              "      <td>28.0</td>\n",
              "      <td>0.0</td>\n",
              "      <td>NaN</td>\n",
              "      <td>NaN</td>\n",
              "      <td>24.0</td>\n",
              "      <td>16.0</td>\n",
              "      <td>1012.8</td>\n",
              "      <td>NaN</td>\n",
              "      <td>26.5</td>\n",
              "      <td>0</td>\n",
              "      <td>0</td>\n",
              "    </tr>\n",
              "    <tr>\n",
              "      <th>1</th>\n",
              "      <td>26.7</td>\n",
              "      <td>0.0</td>\n",
              "      <td>NaN</td>\n",
              "      <td>NaN</td>\n",
              "      <td>35.0</td>\n",
              "      <td>19.0</td>\n",
              "      <td>1010.1</td>\n",
              "      <td>NaN</td>\n",
              "      <td>25.5</td>\n",
              "      <td>0</td>\n",
              "      <td>0</td>\n",
              "    </tr>\n",
              "    <tr>\n",
              "      <th>2</th>\n",
              "      <td>21.7</td>\n",
              "      <td>2.2</td>\n",
              "      <td>NaN</td>\n",
              "      <td>NaN</td>\n",
              "      <td>31.0</td>\n",
              "      <td>91.0</td>\n",
              "      <td>1004.2</td>\n",
              "      <td>8.0</td>\n",
              "      <td>17.0</td>\n",
              "      <td>1</td>\n",
              "      <td>1</td>\n",
              "    </tr>\n",
              "    <tr>\n",
              "      <th>3</th>\n",
              "      <td>18.6</td>\n",
              "      <td>15.6</td>\n",
              "      <td>NaN</td>\n",
              "      <td>NaN</td>\n",
              "      <td>61.0</td>\n",
              "      <td>93.0</td>\n",
              "      <td>993.0</td>\n",
              "      <td>8.0</td>\n",
              "      <td>15.8</td>\n",
              "      <td>1</td>\n",
              "      <td>1</td>\n",
              "    </tr>\n",
              "    <tr>\n",
              "      <th>4</th>\n",
              "      <td>37.9</td>\n",
              "      <td>0.0</td>\n",
              "      <td>NaN</td>\n",
              "      <td>NaN</td>\n",
              "      <td>52.0</td>\n",
              "      <td>8.0</td>\n",
              "      <td>1006.7</td>\n",
              "      <td>NaN</td>\n",
              "      <td>36.8</td>\n",
              "      <td>0</td>\n",
              "      <td>0</td>\n",
              "    </tr>\n",
              "    <tr>\n",
              "      <th>...</th>\n",
              "      <td>...</td>\n",
              "      <td>...</td>\n",
              "      <td>...</td>\n",
              "      <td>...</td>\n",
              "      <td>...</td>\n",
              "      <td>...</td>\n",
              "      <td>...</td>\n",
              "      <td>...</td>\n",
              "      <td>...</td>\n",
              "      <td>...</td>\n",
              "      <td>...</td>\n",
              "    </tr>\n",
              "    <tr>\n",
              "      <th>17098</th>\n",
              "      <td>22.2</td>\n",
              "      <td>0.0</td>\n",
              "      <td>NaN</td>\n",
              "      <td>NaN</td>\n",
              "      <td>37.0</td>\n",
              "      <td>34.0</td>\n",
              "      <td>1021.7</td>\n",
              "      <td>8.0</td>\n",
              "      <td>21.0</td>\n",
              "      <td>0</td>\n",
              "      <td>0</td>\n",
              "    </tr>\n",
              "    <tr>\n",
              "      <th>17099</th>\n",
              "      <td>21.7</td>\n",
              "      <td>0.0</td>\n",
              "      <td>NaN</td>\n",
              "      <td>NaN</td>\n",
              "      <td>43.0</td>\n",
              "      <td>19.0</td>\n",
              "      <td>1025.0</td>\n",
              "      <td>NaN</td>\n",
              "      <td>20.5</td>\n",
              "      <td>0</td>\n",
              "      <td>0</td>\n",
              "    </tr>\n",
              "    <tr>\n",
              "      <th>17100</th>\n",
              "      <td>19.1</td>\n",
              "      <td>0.0</td>\n",
              "      <td>NaN</td>\n",
              "      <td>NaN</td>\n",
              "      <td>33.0</td>\n",
              "      <td>24.0</td>\n",
              "      <td>1026.2</td>\n",
              "      <td>NaN</td>\n",
              "      <td>18.8</td>\n",
              "      <td>0</td>\n",
              "      <td>0</td>\n",
              "    </tr>\n",
              "    <tr>\n",
              "      <th>17101</th>\n",
              "      <td>20.6</td>\n",
              "      <td>0.0</td>\n",
              "      <td>NaN</td>\n",
              "      <td>NaN</td>\n",
              "      <td>35.0</td>\n",
              "      <td>33.0</td>\n",
              "      <td>1023.3</td>\n",
              "      <td>NaN</td>\n",
              "      <td>20.3</td>\n",
              "      <td>0</td>\n",
              "      <td>0</td>\n",
              "    </tr>\n",
              "    <tr>\n",
              "      <th>17102</th>\n",
              "      <td>23.4</td>\n",
              "      <td>0.0</td>\n",
              "      <td>NaN</td>\n",
              "      <td>NaN</td>\n",
              "      <td>31.0</td>\n",
              "      <td>24.0</td>\n",
              "      <td>1020.3</td>\n",
              "      <td>NaN</td>\n",
              "      <td>22.4</td>\n",
              "      <td>0</td>\n",
              "      <td>0</td>\n",
              "    </tr>\n",
              "  </tbody>\n",
              "</table>\n",
              "<p>17103 rows × 11 columns</p>\n",
              "</div>\n",
              "      <button class=\"colab-df-convert\" onclick=\"convertToInteractive('df-eb16358f-ebca-4012-bd1b-4f38dd78372d')\"\n",
              "              title=\"Convert this dataframe to an interactive table.\"\n",
              "              style=\"display:none;\">\n",
              "        \n",
              "  <svg xmlns=\"http://www.w3.org/2000/svg\" height=\"24px\"viewBox=\"0 0 24 24\"\n",
              "       width=\"24px\">\n",
              "    <path d=\"M0 0h24v24H0V0z\" fill=\"none\"/>\n",
              "    <path d=\"M18.56 5.44l.94 2.06.94-2.06 2.06-.94-2.06-.94-.94-2.06-.94 2.06-2.06.94zm-11 1L8.5 8.5l.94-2.06 2.06-.94-2.06-.94L8.5 2.5l-.94 2.06-2.06.94zm10 10l.94 2.06.94-2.06 2.06-.94-2.06-.94-.94-2.06-.94 2.06-2.06.94z\"/><path d=\"M17.41 7.96l-1.37-1.37c-.4-.4-.92-.59-1.43-.59-.52 0-1.04.2-1.43.59L10.3 9.45l-7.72 7.72c-.78.78-.78 2.05 0 2.83L4 21.41c.39.39.9.59 1.41.59.51 0 1.02-.2 1.41-.59l7.78-7.78 2.81-2.81c.8-.78.8-2.07 0-2.86zM5.41 20L4 18.59l7.72-7.72 1.47 1.35L5.41 20z\"/>\n",
              "  </svg>\n",
              "      </button>\n",
              "      \n",
              "  <style>\n",
              "    .colab-df-container {\n",
              "      display:flex;\n",
              "      flex-wrap:wrap;\n",
              "      gap: 12px;\n",
              "    }\n",
              "\n",
              "    .colab-df-convert {\n",
              "      background-color: #E8F0FE;\n",
              "      border: none;\n",
              "      border-radius: 50%;\n",
              "      cursor: pointer;\n",
              "      display: none;\n",
              "      fill: #1967D2;\n",
              "      height: 32px;\n",
              "      padding: 0 0 0 0;\n",
              "      width: 32px;\n",
              "    }\n",
              "\n",
              "    .colab-df-convert:hover {\n",
              "      background-color: #E2EBFA;\n",
              "      box-shadow: 0px 1px 2px rgba(60, 64, 67, 0.3), 0px 1px 3px 1px rgba(60, 64, 67, 0.15);\n",
              "      fill: #174EA6;\n",
              "    }\n",
              "\n",
              "    [theme=dark] .colab-df-convert {\n",
              "      background-color: #3B4455;\n",
              "      fill: #D2E3FC;\n",
              "    }\n",
              "\n",
              "    [theme=dark] .colab-df-convert:hover {\n",
              "      background-color: #434B5C;\n",
              "      box-shadow: 0px 1px 3px 1px rgba(0, 0, 0, 0.15);\n",
              "      filter: drop-shadow(0px 1px 2px rgba(0, 0, 0, 0.3));\n",
              "      fill: #FFFFFF;\n",
              "    }\n",
              "  </style>\n",
              "\n",
              "      <script>\n",
              "        const buttonEl =\n",
              "          document.querySelector('#df-eb16358f-ebca-4012-bd1b-4f38dd78372d button.colab-df-convert');\n",
              "        buttonEl.style.display =\n",
              "          google.colab.kernel.accessAllowed ? 'block' : 'none';\n",
              "\n",
              "        async function convertToInteractive(key) {\n",
              "          const element = document.querySelector('#df-eb16358f-ebca-4012-bd1b-4f38dd78372d');\n",
              "          const dataTable =\n",
              "            await google.colab.kernel.invokeFunction('convertToInteractive',\n",
              "                                                     [key], {});\n",
              "          if (!dataTable) return;\n",
              "\n",
              "          const docLinkHtml = 'Like what you see? Visit the ' +\n",
              "            '<a target=\"_blank\" href=https://colab.research.google.com/notebooks/data_table.ipynb>data table notebook</a>'\n",
              "            + ' to learn more about interactive tables.';\n",
              "          element.innerHTML = '';\n",
              "          dataTable['output_type'] = 'display_data';\n",
              "          await google.colab.output.renderOutput(dataTable, element);\n",
              "          const docLink = document.createElement('div');\n",
              "          docLink.innerHTML = docLinkHtml;\n",
              "          element.appendChild(docLink);\n",
              "        }\n",
              "      </script>\n",
              "    </div>\n",
              "  </div>\n",
              "  "
            ]
          },
          "metadata": {},
          "execution_count": 410
        }
      ],
      "source": [
        "df = df.drop([\"Attribute1\", \"Attribute2\", \"Attribute3\" ,\"Attribute8\", \"Attribute10\", \"Attribute11\"], axis = 1)\n",
        "df"
      ]
    },
    {
      "cell_type": "markdown",
      "source": [
        "將空值都填上中位數"
      ],
      "metadata": {
        "id": "s1rHf0HbYWnT"
      },
      "id": "s1rHf0HbYWnT"
    },
    {
      "cell_type": "code",
      "source": [
        "df[\"Attribute4\"] = df[\"Attribute4\"].fillna(df[\"Attribute4\"].median())\n",
        "df[\"Attribute6\"] = df[\"Attribute6\"].fillna(df[\"Attribute6\"].median())\n",
        "df[\"Attribute9\"] = df[\"Attribute9\"].fillna(df[\"Attribute9\"].median())\n",
        "df[\"Attribute12\"] = df[\"Attribute12\"].fillna(df[\"Attribute12\"].median())\n",
        "df[\"Attribute14\"] = df[\"Attribute14\"].fillna(df[\"Attribute14\"].median())\n",
        "df[\"Attribute13\"] = df[\"Attribute13\"].fillna(df[\"Attribute13\"].median())"
      ],
      "metadata": {
        "id": "TZHS0eXqYWvd"
      },
      "id": "TZHS0eXqYWvd",
      "execution_count": null,
      "outputs": []
    },
    {
      "cell_type": "markdown",
      "id": "4d6f976d",
      "metadata": {
        "papermill": {
          "duration": 0.025588,
          "end_time": "2022-11-23T14:40:15.540493",
          "exception": false,
          "start_time": "2022-11-23T14:40:15.514905",
          "status": "completed"
        },
        "tags": [],
        "id": "4d6f976d"
      },
      "source": [
        "將離群值較多的特徵移除離群值"
      ]
    },
    {
      "cell_type": "code",
      "execution_count": null,
      "id": "b36ab526",
      "metadata": {
        "execution": {
          "iopub.execute_input": "2022-11-23T14:40:15.594848Z",
          "iopub.status.busy": "2022-11-23T14:40:15.594325Z",
          "iopub.status.idle": "2022-11-23T14:40:15.682664Z",
          "shell.execute_reply": "2022-11-23T14:40:15.681461Z"
        },
        "papermill": {
          "duration": 0.119076,
          "end_time": "2022-11-23T14:40:15.685615",
          "exception": false,
          "start_time": "2022-11-23T14:40:15.566539",
          "status": "completed"
        },
        "tags": [],
        "id": "b36ab526"
      },
      "outputs": [],
      "source": [
        "def remove_outliers(feature_name, df):\n",
        "  IQR = df[feature_name].quantile(0.75) - df[feature_name].quantile(0.25) \n",
        "  df = df[df[feature_name] < df[feature_name].quantile(0.75)+(1.5 * IQR)]\n",
        "  df = df[df[feature_name] > df[feature_name].quantile(0.25)-(1.5 * IQR)]\n",
        "  return df\n",
        "\n",
        "df = remove_outliers(\"Attribute4\", df)\n",
        "df = remove_outliers(\"Attribute5\", df)\n",
        "df = remove_outliers(\"Attribute6\", df)\n",
        "df = remove_outliers(\"Attribute7\", df)\n",
        "df = remove_outliers(\"Attribute9\", df)\n",
        "df = remove_outliers(\"Attribute12\", df)\n",
        "df = remove_outliers(\"Attribute13\", df)\n",
        "df = remove_outliers(\"Attribute15\", df)\n",
        "\n",
        "\n"
      ]
    },
    {
      "cell_type": "markdown",
      "source": [
        "移除剩下的空值"
      ],
      "metadata": {
        "id": "kCmeiOi7QPw9"
      },
      "id": "kCmeiOi7QPw9"
    },
    {
      "cell_type": "code",
      "source": [
        "df = df.dropna()\n",
        "df.isnull().sum()"
      ],
      "metadata": {
        "colab": {
          "base_uri": "https://localhost:8080/"
        },
        "id": "cW1GKvvPQPSW",
        "outputId": "4438b941-f67b-49b3-8834-fc3eacefd022"
      },
      "id": "cW1GKvvPQPSW",
      "execution_count": null,
      "outputs": [
        {
          "output_type": "execute_result",
          "data": {
            "text/plain": [
              "Attribute4     0\n",
              "Attribute5     0\n",
              "Attribute6     0\n",
              "Attribute7     0\n",
              "Attribute9     0\n",
              "Attribute12    0\n",
              "Attribute13    0\n",
              "Attribute14    0\n",
              "Attribute15    0\n",
              "Attribute16    0\n",
              "Attribute17    0\n",
              "dtype: int64"
            ]
          },
          "metadata": {},
          "execution_count": 414
        }
      ]
    },
    {
      "cell_type": "markdown",
      "id": "399c724d",
      "metadata": {
        "papermill": {
          "duration": 0.028307,
          "end_time": "2022-11-23T14:40:17.359402",
          "exception": false,
          "start_time": "2022-11-23T14:40:17.331095",
          "status": "completed"
        },
        "tags": [],
        "id": "399c724d"
      },
      "source": [
        "處理偏態"
      ]
    },
    {
      "cell_type": "markdown",
      "id": "6a8e1258",
      "metadata": {
        "papermill": {
          "duration": 0.026696,
          "end_time": "2022-11-23T14:40:17.413419",
          "exception": false,
          "start_time": "2022-11-23T14:40:17.386723",
          "status": "completed"
        },
        "tags": [],
        "id": "6a8e1258"
      },
      "source": [
        "使用對數轉換處理右偏的特徵5、6、9"
      ]
    },
    {
      "cell_type": "code",
      "execution_count": null,
      "id": "a6739d21",
      "metadata": {
        "execution": {
          "iopub.execute_input": "2022-11-23T14:40:17.469473Z",
          "iopub.status.busy": "2022-11-23T14:40:17.469085Z",
          "iopub.status.idle": "2022-11-23T14:40:17.477894Z",
          "shell.execute_reply": "2022-11-23T14:40:17.476856Z"
        },
        "papermill": {
          "duration": 0.039629,
          "end_time": "2022-11-23T14:40:17.480144",
          "exception": false,
          "start_time": "2022-11-23T14:40:17.440515",
          "status": "completed"
        },
        "tags": [],
        "id": "a6739d21"
      },
      "outputs": [],
      "source": [
        "df[\"Attribute5\"] = np.log1p(df[\"Attribute5\"])\n",
        "df[\"Attribute6\"] = np.log1p(df[\"Attribute6\"])\n",
        "df[\"Attribute9\"] = np.log1p(df[\"Attribute9\"])"
      ]
    },
    {
      "cell_type": "markdown",
      "id": "dd937c3f",
      "metadata": {
        "papermill": {
          "duration": 0.0268,
          "end_time": "2022-11-23T14:40:17.534845",
          "exception": false,
          "start_time": "2022-11-23T14:40:17.508045",
          "status": "completed"
        },
        "tags": [],
        "id": "dd937c3f"
      },
      "source": [
        "使用次方轉換左偏特徵7"
      ]
    },
    {
      "cell_type": "code",
      "execution_count": null,
      "id": "57fea114",
      "metadata": {
        "execution": {
          "iopub.execute_input": "2022-11-23T14:40:17.590995Z",
          "iopub.status.busy": "2022-11-23T14:40:17.590580Z",
          "iopub.status.idle": "2022-11-23T14:40:17.597337Z",
          "shell.execute_reply": "2022-11-23T14:40:17.596024Z"
        },
        "papermill": {
          "duration": 0.037678,
          "end_time": "2022-11-23T14:40:17.599630",
          "exception": false,
          "start_time": "2022-11-23T14:40:17.561952",
          "status": "completed"
        },
        "tags": [],
        "id": "57fea114"
      },
      "outputs": [],
      "source": [
        "df[\"Attribute7\"] = np.power(df[\"Attribute7\"], 2)"
      ]
    },
    {
      "cell_type": "markdown",
      "id": "ec36a4ab",
      "metadata": {
        "papermill": {
          "duration": 0.031358,
          "end_time": "2022-11-23T14:40:21.078639",
          "exception": false,
          "start_time": "2022-11-23T14:40:21.047281",
          "status": "completed"
        },
        "tags": [],
        "id": "ec36a4ab"
      },
      "source": [
        "切割資料"
      ]
    },
    {
      "cell_type": "code",
      "execution_count": null,
      "id": "1a6e578c",
      "metadata": {
        "execution": {
          "iopub.execute_input": "2022-11-23T14:40:21.143499Z",
          "iopub.status.busy": "2022-11-23T14:40:21.143007Z",
          "iopub.status.idle": "2022-11-23T14:40:21.272630Z",
          "shell.execute_reply": "2022-11-23T14:40:21.270982Z"
        },
        "papermill": {
          "duration": 0.165036,
          "end_time": "2022-11-23T14:40:21.274966",
          "exception": true,
          "start_time": "2022-11-23T14:40:21.109930",
          "status": "failed"
        },
        "tags": [],
        "id": "1a6e578c"
      },
      "outputs": [],
      "source": [
        "train_X = df.drop(['Attribute17'], axis = 1)\n",
        "train_Y = df['Attribute17']"
      ]
    },
    {
      "cell_type": "code",
      "execution_count": null,
      "id": "9456dd35",
      "metadata": {
        "execution": {
          "iopub.execute_input": "2022-11-23T14:38:21.183087Z",
          "iopub.status.busy": "2022-11-23T14:38:21.181723Z",
          "iopub.status.idle": "2022-11-23T14:38:21.214476Z",
          "shell.execute_reply": "2022-11-23T14:38:21.213497Z",
          "shell.execute_reply.started": "2022-11-23T14:38:21.183050Z"
        },
        "papermill": {
          "duration": null,
          "end_time": null,
          "exception": null,
          "start_time": null,
          "status": "pending"
        },
        "tags": [],
        "id": "9456dd35",
        "colab": {
          "base_uri": "https://localhost:8080/",
          "height": 424
        },
        "outputId": "7d2c7f9f-1b81-4877-8a14-cd1a40e8a7f4"
      },
      "outputs": [
        {
          "output_type": "execute_result",
          "data": {
            "text/plain": [
              "       Attribute4  Attribute5  Attribute6  Attribute7  Attribute9  \\\n",
              "776          32.3    0.000000    1.945910      127.69    3.218876   \n",
              "782          20.4    0.000000    1.722767      100.00    3.465736   \n",
              "785          20.8    0.182322    1.335001      102.01    3.850148   \n",
              "787          17.8    0.000000    1.223775       67.24    3.295837   \n",
              "789          12.8    0.000000    1.163151       37.21    3.135494   \n",
              "...           ...         ...         ...         ...         ...   \n",
              "16705        34.5    0.000000    1.757858      112.36    3.737670   \n",
              "16706        31.8    0.000000    2.001480      116.64    3.850148   \n",
              "16707        29.4    0.000000    2.174752       75.69    3.891820   \n",
              "16708        33.4    0.000000    1.945910      121.00    3.583519   \n",
              "16709        31.7    0.000000    1.887070      114.49    3.433987   \n",
              "\n",
              "       Attribute12  Attribute13  Attribute14  Attribute15  Attribute16  \n",
              "776           16.0       1012.7          1.0         30.8            0  \n",
              "782           35.0       1016.6          3.0         19.2            0  \n",
              "785           49.0       1015.4          3.0         20.4            0  \n",
              "787           42.0       1024.3          6.0         17.6            0  \n",
              "789           50.0       1019.5          4.0         12.4            0  \n",
              "...            ...          ...          ...          ...          ...  \n",
              "16705         32.0       1009.7          3.0         34.0            0  \n",
              "16706         26.0       1012.6          1.0         31.0            0  \n",
              "16707         24.0       1013.5          7.0         28.5            0  \n",
              "16708         32.0       1010.5          1.0         32.3            0  \n",
              "16709         32.0       1009.7          5.0         31.0            0  \n",
              "\n",
              "[4486 rows x 10 columns]"
            ],
            "text/html": [
              "\n",
              "  <div id=\"df-3f740fc6-2f51-4e7a-aa55-cd297491eafb\">\n",
              "    <div class=\"colab-df-container\">\n",
              "      <div>\n",
              "<style scoped>\n",
              "    .dataframe tbody tr th:only-of-type {\n",
              "        vertical-align: middle;\n",
              "    }\n",
              "\n",
              "    .dataframe tbody tr th {\n",
              "        vertical-align: top;\n",
              "    }\n",
              "\n",
              "    .dataframe thead th {\n",
              "        text-align: right;\n",
              "    }\n",
              "</style>\n",
              "<table border=\"1\" class=\"dataframe\">\n",
              "  <thead>\n",
              "    <tr style=\"text-align: right;\">\n",
              "      <th></th>\n",
              "      <th>Attribute4</th>\n",
              "      <th>Attribute5</th>\n",
              "      <th>Attribute6</th>\n",
              "      <th>Attribute7</th>\n",
              "      <th>Attribute9</th>\n",
              "      <th>Attribute12</th>\n",
              "      <th>Attribute13</th>\n",
              "      <th>Attribute14</th>\n",
              "      <th>Attribute15</th>\n",
              "      <th>Attribute16</th>\n",
              "    </tr>\n",
              "  </thead>\n",
              "  <tbody>\n",
              "    <tr>\n",
              "      <th>776</th>\n",
              "      <td>32.3</td>\n",
              "      <td>0.000000</td>\n",
              "      <td>1.945910</td>\n",
              "      <td>127.69</td>\n",
              "      <td>3.218876</td>\n",
              "      <td>16.0</td>\n",
              "      <td>1012.7</td>\n",
              "      <td>1.0</td>\n",
              "      <td>30.8</td>\n",
              "      <td>0</td>\n",
              "    </tr>\n",
              "    <tr>\n",
              "      <th>782</th>\n",
              "      <td>20.4</td>\n",
              "      <td>0.000000</td>\n",
              "      <td>1.722767</td>\n",
              "      <td>100.00</td>\n",
              "      <td>3.465736</td>\n",
              "      <td>35.0</td>\n",
              "      <td>1016.6</td>\n",
              "      <td>3.0</td>\n",
              "      <td>19.2</td>\n",
              "      <td>0</td>\n",
              "    </tr>\n",
              "    <tr>\n",
              "      <th>785</th>\n",
              "      <td>20.8</td>\n",
              "      <td>0.182322</td>\n",
              "      <td>1.335001</td>\n",
              "      <td>102.01</td>\n",
              "      <td>3.850148</td>\n",
              "      <td>49.0</td>\n",
              "      <td>1015.4</td>\n",
              "      <td>3.0</td>\n",
              "      <td>20.4</td>\n",
              "      <td>0</td>\n",
              "    </tr>\n",
              "    <tr>\n",
              "      <th>787</th>\n",
              "      <td>17.8</td>\n",
              "      <td>0.000000</td>\n",
              "      <td>1.223775</td>\n",
              "      <td>67.24</td>\n",
              "      <td>3.295837</td>\n",
              "      <td>42.0</td>\n",
              "      <td>1024.3</td>\n",
              "      <td>6.0</td>\n",
              "      <td>17.6</td>\n",
              "      <td>0</td>\n",
              "    </tr>\n",
              "    <tr>\n",
              "      <th>789</th>\n",
              "      <td>12.8</td>\n",
              "      <td>0.000000</td>\n",
              "      <td>1.163151</td>\n",
              "      <td>37.21</td>\n",
              "      <td>3.135494</td>\n",
              "      <td>50.0</td>\n",
              "      <td>1019.5</td>\n",
              "      <td>4.0</td>\n",
              "      <td>12.4</td>\n",
              "      <td>0</td>\n",
              "    </tr>\n",
              "    <tr>\n",
              "      <th>...</th>\n",
              "      <td>...</td>\n",
              "      <td>...</td>\n",
              "      <td>...</td>\n",
              "      <td>...</td>\n",
              "      <td>...</td>\n",
              "      <td>...</td>\n",
              "      <td>...</td>\n",
              "      <td>...</td>\n",
              "      <td>...</td>\n",
              "      <td>...</td>\n",
              "    </tr>\n",
              "    <tr>\n",
              "      <th>16705</th>\n",
              "      <td>34.5</td>\n",
              "      <td>0.000000</td>\n",
              "      <td>1.757858</td>\n",
              "      <td>112.36</td>\n",
              "      <td>3.737670</td>\n",
              "      <td>32.0</td>\n",
              "      <td>1009.7</td>\n",
              "      <td>3.0</td>\n",
              "      <td>34.0</td>\n",
              "      <td>0</td>\n",
              "    </tr>\n",
              "    <tr>\n",
              "      <th>16706</th>\n",
              "      <td>31.8</td>\n",
              "      <td>0.000000</td>\n",
              "      <td>2.001480</td>\n",
              "      <td>116.64</td>\n",
              "      <td>3.850148</td>\n",
              "      <td>26.0</td>\n",
              "      <td>1012.6</td>\n",
              "      <td>1.0</td>\n",
              "      <td>31.0</td>\n",
              "      <td>0</td>\n",
              "    </tr>\n",
              "    <tr>\n",
              "      <th>16707</th>\n",
              "      <td>29.4</td>\n",
              "      <td>0.000000</td>\n",
              "      <td>2.174752</td>\n",
              "      <td>75.69</td>\n",
              "      <td>3.891820</td>\n",
              "      <td>24.0</td>\n",
              "      <td>1013.5</td>\n",
              "      <td>7.0</td>\n",
              "      <td>28.5</td>\n",
              "      <td>0</td>\n",
              "    </tr>\n",
              "    <tr>\n",
              "      <th>16708</th>\n",
              "      <td>33.4</td>\n",
              "      <td>0.000000</td>\n",
              "      <td>1.945910</td>\n",
              "      <td>121.00</td>\n",
              "      <td>3.583519</td>\n",
              "      <td>32.0</td>\n",
              "      <td>1010.5</td>\n",
              "      <td>1.0</td>\n",
              "      <td>32.3</td>\n",
              "      <td>0</td>\n",
              "    </tr>\n",
              "    <tr>\n",
              "      <th>16709</th>\n",
              "      <td>31.7</td>\n",
              "      <td>0.000000</td>\n",
              "      <td>1.887070</td>\n",
              "      <td>114.49</td>\n",
              "      <td>3.433987</td>\n",
              "      <td>32.0</td>\n",
              "      <td>1009.7</td>\n",
              "      <td>5.0</td>\n",
              "      <td>31.0</td>\n",
              "      <td>0</td>\n",
              "    </tr>\n",
              "  </tbody>\n",
              "</table>\n",
              "<p>4486 rows × 10 columns</p>\n",
              "</div>\n",
              "      <button class=\"colab-df-convert\" onclick=\"convertToInteractive('df-3f740fc6-2f51-4e7a-aa55-cd297491eafb')\"\n",
              "              title=\"Convert this dataframe to an interactive table.\"\n",
              "              style=\"display:none;\">\n",
              "        \n",
              "  <svg xmlns=\"http://www.w3.org/2000/svg\" height=\"24px\"viewBox=\"0 0 24 24\"\n",
              "       width=\"24px\">\n",
              "    <path d=\"M0 0h24v24H0V0z\" fill=\"none\"/>\n",
              "    <path d=\"M18.56 5.44l.94 2.06.94-2.06 2.06-.94-2.06-.94-.94-2.06-.94 2.06-2.06.94zm-11 1L8.5 8.5l.94-2.06 2.06-.94-2.06-.94L8.5 2.5l-.94 2.06-2.06.94zm10 10l.94 2.06.94-2.06 2.06-.94-2.06-.94-.94-2.06-.94 2.06-2.06.94z\"/><path d=\"M17.41 7.96l-1.37-1.37c-.4-.4-.92-.59-1.43-.59-.52 0-1.04.2-1.43.59L10.3 9.45l-7.72 7.72c-.78.78-.78 2.05 0 2.83L4 21.41c.39.39.9.59 1.41.59.51 0 1.02-.2 1.41-.59l7.78-7.78 2.81-2.81c.8-.78.8-2.07 0-2.86zM5.41 20L4 18.59l7.72-7.72 1.47 1.35L5.41 20z\"/>\n",
              "  </svg>\n",
              "      </button>\n",
              "      \n",
              "  <style>\n",
              "    .colab-df-container {\n",
              "      display:flex;\n",
              "      flex-wrap:wrap;\n",
              "      gap: 12px;\n",
              "    }\n",
              "\n",
              "    .colab-df-convert {\n",
              "      background-color: #E8F0FE;\n",
              "      border: none;\n",
              "      border-radius: 50%;\n",
              "      cursor: pointer;\n",
              "      display: none;\n",
              "      fill: #1967D2;\n",
              "      height: 32px;\n",
              "      padding: 0 0 0 0;\n",
              "      width: 32px;\n",
              "    }\n",
              "\n",
              "    .colab-df-convert:hover {\n",
              "      background-color: #E2EBFA;\n",
              "      box-shadow: 0px 1px 2px rgba(60, 64, 67, 0.3), 0px 1px 3px 1px rgba(60, 64, 67, 0.15);\n",
              "      fill: #174EA6;\n",
              "    }\n",
              "\n",
              "    [theme=dark] .colab-df-convert {\n",
              "      background-color: #3B4455;\n",
              "      fill: #D2E3FC;\n",
              "    }\n",
              "\n",
              "    [theme=dark] .colab-df-convert:hover {\n",
              "      background-color: #434B5C;\n",
              "      box-shadow: 0px 1px 3px 1px rgba(0, 0, 0, 0.15);\n",
              "      filter: drop-shadow(0px 1px 2px rgba(0, 0, 0, 0.3));\n",
              "      fill: #FFFFFF;\n",
              "    }\n",
              "  </style>\n",
              "\n",
              "      <script>\n",
              "        const buttonEl =\n",
              "          document.querySelector('#df-3f740fc6-2f51-4e7a-aa55-cd297491eafb button.colab-df-convert');\n",
              "        buttonEl.style.display =\n",
              "          google.colab.kernel.accessAllowed ? 'block' : 'none';\n",
              "\n",
              "        async function convertToInteractive(key) {\n",
              "          const element = document.querySelector('#df-3f740fc6-2f51-4e7a-aa55-cd297491eafb');\n",
              "          const dataTable =\n",
              "            await google.colab.kernel.invokeFunction('convertToInteractive',\n",
              "                                                     [key], {});\n",
              "          if (!dataTable) return;\n",
              "\n",
              "          const docLinkHtml = 'Like what you see? Visit the ' +\n",
              "            '<a target=\"_blank\" href=https://colab.research.google.com/notebooks/data_table.ipynb>data table notebook</a>'\n",
              "            + ' to learn more about interactive tables.';\n",
              "          element.innerHTML = '';\n",
              "          dataTable['output_type'] = 'display_data';\n",
              "          await google.colab.output.renderOutput(dataTable, element);\n",
              "          const docLink = document.createElement('div');\n",
              "          docLink.innerHTML = docLinkHtml;\n",
              "          element.appendChild(docLink);\n",
              "        }\n",
              "      </script>\n",
              "    </div>\n",
              "  </div>\n",
              "  "
            ]
          },
          "metadata": {},
          "execution_count": 421
        }
      ],
      "source": [
        "train_X"
      ]
    },
    {
      "cell_type": "code",
      "execution_count": null,
      "id": "461054a4",
      "metadata": {
        "execution": {
          "iopub.execute_input": "2022-11-23T14:38:21.216741Z",
          "iopub.status.busy": "2022-11-23T14:38:21.215785Z",
          "iopub.status.idle": "2022-11-23T14:38:21.224953Z",
          "shell.execute_reply": "2022-11-23T14:38:21.223791Z",
          "shell.execute_reply.started": "2022-11-23T14:38:21.216704Z"
        },
        "papermill": {
          "duration": null,
          "end_time": null,
          "exception": null,
          "start_time": null,
          "status": "pending"
        },
        "tags": [],
        "id": "461054a4",
        "colab": {
          "base_uri": "https://localhost:8080/"
        },
        "outputId": "094b494d-0456-43af-d9ae-db358c4e487b"
      },
      "outputs": [
        {
          "output_type": "execute_result",
          "data": {
            "text/plain": [
              "776      0\n",
              "782      0\n",
              "785      0\n",
              "787      0\n",
              "789      0\n",
              "        ..\n",
              "16705    0\n",
              "16706    0\n",
              "16707    0\n",
              "16708    0\n",
              "16709    0\n",
              "Name: Attribute17, Length: 4486, dtype: int64"
            ]
          },
          "metadata": {},
          "execution_count": 422
        }
      ],
      "source": [
        "train_Y"
      ]
    },
    {
      "cell_type": "markdown",
      "id": "be61d03a",
      "metadata": {
        "papermill": {
          "duration": null,
          "end_time": null,
          "exception": null,
          "start_time": null,
          "status": "pending"
        },
        "tags": [],
        "id": "be61d03a"
      },
      "source": [
        "因目標值分佈不均，所以進行採樣"
      ]
    },
    {
      "cell_type": "code",
      "execution_count": null,
      "id": "3b74a4ac",
      "metadata": {
        "execution": {
          "iopub.execute_input": "2022-11-23T14:38:21.239292Z",
          "iopub.status.busy": "2022-11-23T14:38:21.238916Z",
          "iopub.status.idle": "2022-11-23T14:38:21.681402Z",
          "shell.execute_reply": "2022-11-23T14:38:21.680229Z",
          "shell.execute_reply.started": "2022-11-23T14:38:21.239259Z"
        },
        "papermill": {
          "duration": null,
          "end_time": null,
          "exception": null,
          "start_time": null,
          "status": "pending"
        },
        "tags": [],
        "id": "3b74a4ac"
      },
      "outputs": [],
      "source": [
        "train_X, train_Y = SMOTE().fit_resample(train_X, train_Y)\n",
        "train_X, train_Y = TomekLinks().fit_resample(train_X, train_Y)"
      ]
    },
    {
      "cell_type": "markdown",
      "id": "7a327bc4",
      "metadata": {
        "papermill": {
          "duration": null,
          "end_time": null,
          "exception": null,
          "start_time": null,
          "status": "pending"
        },
        "tags": [],
        "id": "7a327bc4"
      },
      "source": [
        "採樣後的資料分佈"
      ]
    },
    {
      "cell_type": "code",
      "execution_count": null,
      "id": "222ab000",
      "metadata": {
        "execution": {
          "iopub.execute_input": "2022-11-23T14:38:21.683297Z",
          "iopub.status.busy": "2022-11-23T14:38:21.682924Z",
          "iopub.status.idle": "2022-11-23T14:38:21.773064Z",
          "shell.execute_reply": "2022-11-23T14:38:21.771859Z",
          "shell.execute_reply.started": "2022-11-23T14:38:21.683264Z"
        },
        "papermill": {
          "duration": null,
          "end_time": null,
          "exception": null,
          "start_time": null,
          "status": "pending"
        },
        "tags": [],
        "colab": {
          "base_uri": "https://localhost:8080/",
          "height": 319
        },
        "id": "222ab000",
        "outputId": "ac5757d6-4ccd-4af7-d628-d4c40cbf57e8"
      },
      "outputs": [
        {
          "output_type": "display_data",
          "data": {
            "text/plain": [
              "<Figure size 576x360 with 1 Axes>"
            ],
            "image/png": "[encoded data removed]"
          },
          "metadata": {}
        }
      ],
      "source": [
        "plt.figure(figsize=(8,5))\n",
        "train_Y.value_counts().plot( kind='pie', colors=['lightcoral','skyblue'], autopct='%1.2f%%' )\n",
        "plt.title( 'Attribute17' )\n",
        "plt.show()"
      ]
    },
    {
      "cell_type": "markdown",
      "source": [
        "連續變數離散化"
      ],
      "metadata": {
        "id": "HlZpyYitXMcm"
      },
      "id": "HlZpyYitXMcm"
    },
    {
      "cell_type": "markdown",
      "source": [
        "Attribute4     \n",
        "Attribute5    \n",
        "Attribute6     \n",
        "Attribute7    \n",
        "Attribute9     \n",
        "Attribute12    \n",
        "Attribute13    \n",
        "Attribute14    \n",
        "Attribute15    \n",
        "Attribute16   \n",
        "Attribute17    \n",
        "dtype: int64"
      ],
      "metadata": {
        "id": "FNpNs7KdXeI2"
      },
      "id": "FNpNs7KdXeI2"
    },
    {
      "cell_type": "code",
      "source": [
        "# df[\"Attribute4\"] = pd.cut(df[\"Attribute5\"], 10)\n",
        "# df[\"Attribute5\"] = pd.cut(df[\"Attribute5\"], 3)\n",
        "# df[\"Attribute6\"] = pd.cut(df[\"Attribute6\"], 10)\n",
        "# df[\"Attribute7\"] = pd.cut(df[\"Attribute7\"], 10)\n",
        "# df[\"Attribute9\"] = pd.cut(df[\"Attribute9\"], 10)\n",
        "# df[\"Attribute12\"] = pd.cut(df[\"Attribute12\"], 10)\n",
        "# df[\"Attribute13\"] = pd.cut(df[\"Attribute13\"], 10)\n",
        "# df[\"Attribute13\"] = pd.cut(df[\"Attribute15\"], 10)\n",
        "# print(df[\"Attribute5\"])"
      ],
      "metadata": {
        "id": "glfTf3a9XMEJ"
      },
      "id": "glfTf3a9XMEJ",
      "execution_count": null,
      "outputs": []
    },
    {
      "cell_type": "markdown",
      "id": "6b3c93d8",
      "metadata": {
        "papermill": {
          "duration": null,
          "end_time": null,
          "exception": null,
          "start_time": null,
          "status": "pending"
        },
        "tags": [],
        "id": "6b3c93d8"
      },
      "source": [
        "對測試資料做處理"
      ]
    },
    {
      "cell_type": "markdown",
      "id": "12d3a97a",
      "metadata": {
        "papermill": {
          "duration": null,
          "end_time": null,
          "exception": null,
          "start_time": null,
          "status": "pending"
        },
        "tags": [],
        "id": "12d3a97a"
      },
      "source": [
        "移除與目標值較無相關的特徵"
      ]
    },
    {
      "cell_type": "code",
      "execution_count": null,
      "id": "48651a5e",
      "metadata": {
        "execution": {
          "iopub.execute_input": "2022-11-23T14:38:21.775210Z",
          "iopub.status.busy": "2022-11-23T14:38:21.774756Z",
          "iopub.status.idle": "2022-11-23T14:38:21.812827Z",
          "shell.execute_reply": "2022-11-23T14:38:21.810951Z",
          "shell.execute_reply.started": "2022-11-23T14:38:21.775164Z"
        },
        "papermill": {
          "duration": null,
          "end_time": null,
          "exception": null,
          "start_time": null,
          "status": "pending"
        },
        "tags": [],
        "colab": {
          "base_uri": "https://localhost:8080/",
          "height": 424
        },
        "id": "48651a5e",
        "outputId": "0448aeba-6634-4216-e137-11ec3b746917"
      },
      "outputs": [
        {
          "output_type": "execute_result",
          "data": {
            "text/plain": [
              "     Attribute4  Attribute5  Attribute6  Attribute7  Attribute9  Attribute12  \\\n",
              "0          19.5         0.2         3.4         2.9        28.0         56.0   \n",
              "1          17.7         0.0        13.0         9.7        63.0         24.0   \n",
              "2          33.5         0.0        13.6        12.5        39.0         13.0   \n",
              "3          30.3         0.0         8.6        11.4        28.0         18.0   \n",
              "4          13.3         4.6         1.8         0.0        39.0         83.0   \n",
              "..          ...         ...         ...         ...         ...          ...   \n",
              "801        33.9         0.0         6.8        10.8        52.0         32.0   \n",
              "802        33.4         0.0         7.2        10.5        41.0         29.0   \n",
              "803        37.5         0.0         8.0        11.5        50.0         16.0   \n",
              "804        33.6         2.4         3.4         7.5        35.0         60.0   \n",
              "805        29.8         0.0         8.4        10.5        41.0         24.0   \n",
              "\n",
              "     Attribute13  Attribute14  Attribute15 Attribute16  \n",
              "0         1011.5          8.0         16.8          No  \n",
              "1         1011.4          5.0         16.3          No  \n",
              "2         1012.0          1.0         30.7          No  \n",
              "3         1017.5          1.0         28.8          No  \n",
              "4         1007.9          7.0         13.2         Yes  \n",
              "..           ...          ...          ...         ...  \n",
              "801       1012.3          3.0         33.4          No  \n",
              "802       1011.3          1.0         32.1          No  \n",
              "803       1009.1          1.0         36.8          No  \n",
              "804       1004.3          6.0         32.9         Yes  \n",
              "805       1013.1          2.0         29.4          No  \n",
              "\n",
              "[806 rows x 10 columns]"
            ],
            "text/html": [
              "\n",
              "  <div id=\"df-cd564966-e5de-48b8-9caf-ed5c6df5ca37\">\n",
              "    <div class=\"colab-df-container\">\n",
              "      <div>\n",
              "<style scoped>\n",
              "    .dataframe tbody tr th:only-of-type {\n",
              "        vertical-align: middle;\n",
              "    }\n",
              "\n",
              "    .dataframe tbody tr th {\n",
              "        vertical-align: top;\n",
              "    }\n",
              "\n",
              "    .dataframe thead th {\n",
              "        text-align: right;\n",
              "    }\n",
              "</style>\n",
              "<table border=\"1\" class=\"dataframe\">\n",
              "  <thead>\n",
              "    <tr style=\"text-align: right;\">\n",
              "      <th></th>\n",
              "      <th>Attribute4</th>\n",
              "      <th>Attribute5</th>\n",
              "      <th>Attribute6</th>\n",
              "      <th>Attribute7</th>\n",
              "      <th>Attribute9</th>\n",
              "      <th>Attribute12</th>\n",
              "      <th>Attribute13</th>\n",
              "      <th>Attribute14</th>\n",
              "      <th>Attribute15</th>\n",
              "      <th>Attribute16</th>\n",
              "    </tr>\n",
              "  </thead>\n",
              "  <tbody>\n",
              "    <tr>\n",
              "      <th>0</th>\n",
              "      <td>19.5</td>\n",
              "      <td>0.2</td>\n",
              "      <td>3.4</td>\n",
              "      <td>2.9</td>\n",
              "      <td>28.0</td>\n",
              "      <td>56.0</td>\n",
              "      <td>1011.5</td>\n",
              "      <td>8.0</td>\n",
              "      <td>16.8</td>\n",
              "      <td>No</td>\n",
              "    </tr>\n",
              "    <tr>\n",
              "      <th>1</th>\n",
              "      <td>17.7</td>\n",
              "      <td>0.0</td>\n",
              "      <td>13.0</td>\n",
              "      <td>9.7</td>\n",
              "      <td>63.0</td>\n",
              "      <td>24.0</td>\n",
              "      <td>1011.4</td>\n",
              "      <td>5.0</td>\n",
              "      <td>16.3</td>\n",
              "      <td>No</td>\n",
              "    </tr>\n",
              "    <tr>\n",
              "      <th>2</th>\n",
              "      <td>33.5</td>\n",
              "      <td>0.0</td>\n",
              "      <td>13.6</td>\n",
              "      <td>12.5</td>\n",
              "      <td>39.0</td>\n",
              "      <td>13.0</td>\n",
              "      <td>1012.0</td>\n",
              "      <td>1.0</td>\n",
              "      <td>30.7</td>\n",
              "      <td>No</td>\n",
              "    </tr>\n",
              "    <tr>\n",
              "      <th>3</th>\n",
              "      <td>30.3</td>\n",
              "      <td>0.0</td>\n",
              "      <td>8.6</td>\n",
              "      <td>11.4</td>\n",
              "      <td>28.0</td>\n",
              "      <td>18.0</td>\n",
              "      <td>1017.5</td>\n",
              "      <td>1.0</td>\n",
              "      <td>28.8</td>\n",
              "      <td>No</td>\n",
              "    </tr>\n",
              "    <tr>\n",
              "      <th>4</th>\n",
              "      <td>13.3</td>\n",
              "      <td>4.6</td>\n",
              "      <td>1.8</td>\n",
              "      <td>0.0</td>\n",
              "      <td>39.0</td>\n",
              "      <td>83.0</td>\n",
              "      <td>1007.9</td>\n",
              "      <td>7.0</td>\n",
              "      <td>13.2</td>\n",
              "      <td>Yes</td>\n",
              "    </tr>\n",
              "    <tr>\n",
              "      <th>...</th>\n",
              "      <td>...</td>\n",
              "      <td>...</td>\n",
              "      <td>...</td>\n",
              "      <td>...</td>\n",
              "      <td>...</td>\n",
              "      <td>...</td>\n",
              "      <td>...</td>\n",
              "      <td>...</td>\n",
              "      <td>...</td>\n",
              "      <td>...</td>\n",
              "    </tr>\n",
              "    <tr>\n",
              "      <th>801</th>\n",
              "      <td>33.9</td>\n",
              "      <td>0.0</td>\n",
              "      <td>6.8</td>\n",
              "      <td>10.8</td>\n",
              "      <td>52.0</td>\n",
              "      <td>32.0</td>\n",
              "      <td>1012.3</td>\n",
              "      <td>3.0</td>\n",
              "      <td>33.4</td>\n",
              "      <td>No</td>\n",
              "    </tr>\n",
              "    <tr>\n",
              "      <th>802</th>\n",
              "      <td>33.4</td>\n",
              "      <td>0.0</td>\n",
              "      <td>7.2</td>\n",
              "      <td>10.5</td>\n",
              "      <td>41.0</td>\n",
              "      <td>29.0</td>\n",
              "      <td>1011.3</td>\n",
              "      <td>1.0</td>\n",
              "      <td>32.1</td>\n",
              "      <td>No</td>\n",
              "    </tr>\n",
              "    <tr>\n",
              "      <th>803</th>\n",
              "      <td>37.5</td>\n",
              "      <td>0.0</td>\n",
              "      <td>8.0</td>\n",
              "      <td>11.5</td>\n",
              "      <td>50.0</td>\n",
              "      <td>16.0</td>\n",
              "      <td>1009.1</td>\n",
              "      <td>1.0</td>\n",
              "      <td>36.8</td>\n",
              "      <td>No</td>\n",
              "    </tr>\n",
              "    <tr>\n",
              "      <th>804</th>\n",
              "      <td>33.6</td>\n",
              "      <td>2.4</td>\n",
              "      <td>3.4</td>\n",
              "      <td>7.5</td>\n",
              "      <td>35.0</td>\n",
              "      <td>60.0</td>\n",
              "      <td>1004.3</td>\n",
              "      <td>6.0</td>\n",
              "      <td>32.9</td>\n",
              "      <td>Yes</td>\n",
              "    </tr>\n",
              "    <tr>\n",
              "      <th>805</th>\n",
              "      <td>29.8</td>\n",
              "      <td>0.0</td>\n",
              "      <td>8.4</td>\n",
              "      <td>10.5</td>\n",
              "      <td>41.0</td>\n",
              "      <td>24.0</td>\n",
              "      <td>1013.1</td>\n",
              "      <td>2.0</td>\n",
              "      <td>29.4</td>\n",
              "      <td>No</td>\n",
              "    </tr>\n",
              "  </tbody>\n",
              "</table>\n",
              "<p>806 rows × 10 columns</p>\n",
              "</div>\n",
              "      <button class=\"colab-df-convert\" onclick=\"convertToInteractive('df-cd564966-e5de-48b8-9caf-ed5c6df5ca37')\"\n",
              "              title=\"Convert this dataframe to an interactive table.\"\n",
              "              style=\"display:none;\">\n",
              "        \n",
              "  <svg xmlns=\"http://www.w3.org/2000/svg\" height=\"24px\"viewBox=\"0 0 24 24\"\n",
              "       width=\"24px\">\n",
              "    <path d=\"M0 0h24v24H0V0z\" fill=\"none\"/>\n",
              "    <path d=\"M18.56 5.44l.94 2.06.94-2.06 2.06-.94-2.06-.94-.94-2.06-.94 2.06-2.06.94zm-11 1L8.5 8.5l.94-2.06 2.06-.94-2.06-.94L8.5 2.5l-.94 2.06-2.06.94zm10 10l.94 2.06.94-2.06 2.06-.94-2.06-.94-.94-2.06-.94 2.06-2.06.94z\"/><path d=\"M17.41 7.96l-1.37-1.37c-.4-.4-.92-.59-1.43-.59-.52 0-1.04.2-1.43.59L10.3 9.45l-7.72 7.72c-.78.78-.78 2.05 0 2.83L4 21.41c.39.39.9.59 1.41.59.51 0 1.02-.2 1.41-.59l7.78-7.78 2.81-2.81c.8-.78.8-2.07 0-2.86zM5.41 20L4 18.59l7.72-7.72 1.47 1.35L5.41 20z\"/>\n",
              "  </svg>\n",
              "      </button>\n",
              "      \n",
              "  <style>\n",
              "    .colab-df-container {\n",
              "      display:flex;\n",
              "      flex-wrap:wrap;\n",
              "      gap: 12px;\n",
              "    }\n",
              "\n",
              "    .colab-df-convert {\n",
              "      background-color: #E8F0FE;\n",
              "      border: none;\n",
              "      border-radius: 50%;\n",
              "      cursor: pointer;\n",
              "      display: none;\n",
              "      fill: #1967D2;\n",
              "      height: 32px;\n",
              "      padding: 0 0 0 0;\n",
              "      width: 32px;\n",
              "    }\n",
              "\n",
              "    .colab-df-convert:hover {\n",
              "      background-color: #E2EBFA;\n",
              "      box-shadow: 0px 1px 2px rgba(60, 64, 67, 0.3), 0px 1px 3px 1px rgba(60, 64, 67, 0.15);\n",
              "      fill: #174EA6;\n",
              "    }\n",
              "\n",
              "    [theme=dark] .colab-df-convert {\n",
              "      background-color: #3B4455;\n",
              "      fill: #D2E3FC;\n",
              "    }\n",
              "\n",
              "    [theme=dark] .colab-df-convert:hover {\n",
              "      background-color: #434B5C;\n",
              "      box-shadow: 0px 1px 3px 1px rgba(0, 0, 0, 0.15);\n",
              "      filter: drop-shadow(0px 1px 2px rgba(0, 0, 0, 0.3));\n",
              "      fill: #FFFFFF;\n",
              "    }\n",
              "  </style>\n",
              "\n",
              "      <script>\n",
              "        const buttonEl =\n",
              "          document.querySelector('#df-cd564966-e5de-48b8-9caf-ed5c6df5ca37 button.colab-df-convert');\n",
              "        buttonEl.style.display =\n",
              "          google.colab.kernel.accessAllowed ? 'block' : 'none';\n",
              "\n",
              "        async function convertToInteractive(key) {\n",
              "          const element = document.querySelector('#df-cd564966-e5de-48b8-9caf-ed5c6df5ca37');\n",
              "          const dataTable =\n",
              "            await google.colab.kernel.invokeFunction('convertToInteractive',\n",
              "                                                     [key], {});\n",
              "          if (!dataTable) return;\n",
              "\n",
              "          const docLinkHtml = 'Like what you see? Visit the ' +\n",
              "            '<a target=\"_blank\" href=https://colab.research.google.com/notebooks/data_table.ipynb>data table notebook</a>'\n",
              "            + ' to learn more about interactive tables.';\n",
              "          element.innerHTML = '';\n",
              "          dataTable['output_type'] = 'display_data';\n",
              "          await google.colab.output.renderOutput(dataTable, element);\n",
              "          const docLink = document.createElement('div');\n",
              "          docLink.innerHTML = docLinkHtml;\n",
              "          element.appendChild(docLink);\n",
              "        }\n",
              "      </script>\n",
              "    </div>\n",
              "  </div>\n",
              "  "
            ]
          },
          "metadata": {},
          "execution_count": 426
        }
      ],
      "source": [
        "test = test.drop([\"Attribute1\", \"Attribute2\", \"Attribute3\" ,\"Attribute8\", \"Attribute10\", \"Attribute11\"], axis = 1)\n",
        "test"
      ]
    },
    {
      "cell_type": "markdown",
      "id": "f0f26832",
      "metadata": {
        "papermill": {
          "duration": null,
          "end_time": null,
          "exception": null,
          "start_time": null,
          "status": "pending"
        },
        "tags": [],
        "id": "f0f26832"
      },
      "source": [
        "將類別型資料轉換成數值型"
      ]
    },
    {
      "cell_type": "code",
      "execution_count": null,
      "id": "9ce1ad16",
      "metadata": {
        "execution": {
          "iopub.execute_input": "2022-11-23T14:38:21.816029Z",
          "iopub.status.busy": "2022-11-23T14:38:21.814798Z",
          "iopub.status.idle": "2022-11-23T14:38:21.825144Z",
          "shell.execute_reply": "2022-11-23T14:38:21.823669Z",
          "shell.execute_reply.started": "2022-11-23T14:38:21.815972Z"
        },
        "papermill": {
          "duration": null,
          "end_time": null,
          "exception": null,
          "start_time": null,
          "status": "pending"
        },
        "tags": [],
        "id": "9ce1ad16"
      },
      "outputs": [],
      "source": [
        "test['Attribute16'] = le.fit_transform(test[\"Attribute16\"])"
      ]
    },
    {
      "cell_type": "code",
      "execution_count": null,
      "id": "fd900734",
      "metadata": {
        "execution": {
          "iopub.execute_input": "2022-11-23T14:38:21.828910Z",
          "iopub.status.busy": "2022-11-23T14:38:21.827665Z",
          "iopub.status.idle": "2022-11-23T14:38:21.841786Z",
          "shell.execute_reply": "2022-11-23T14:38:21.840637Z",
          "shell.execute_reply.started": "2022-11-23T14:38:21.828793Z"
        },
        "papermill": {
          "duration": null,
          "end_time": null,
          "exception": null,
          "start_time": null,
          "status": "pending"
        },
        "tags": [],
        "colab": {
          "base_uri": "https://localhost:8080/"
        },
        "id": "fd900734",
        "outputId": "bab0dd96-cf7a-4d3b-aef5-998fe3b3b5d7"
      },
      "outputs": [
        {
          "output_type": "execute_result",
          "data": {
            "text/plain": [
              "Attribute4     0\n",
              "Attribute5     0\n",
              "Attribute6     0\n",
              "Attribute7     0\n",
              "Attribute9     0\n",
              "Attribute12    0\n",
              "Attribute13    0\n",
              "Attribute14    0\n",
              "Attribute15    0\n",
              "Attribute16    0\n",
              "dtype: int64"
            ]
          },
          "metadata": {},
          "execution_count": 428
        }
      ],
      "source": [
        "test.isnull().sum()"
      ]
    },
    {
      "cell_type": "markdown",
      "id": "dabddf35",
      "metadata": {
        "papermill": {
          "duration": null,
          "end_time": null,
          "exception": null,
          "start_time": null,
          "status": "pending"
        },
        "tags": [],
        "id": "dabddf35"
      },
      "source": [
        "模型訓練"
      ]
    },
    {
      "cell_type": "code",
      "execution_count": null,
      "id": "1e75aeb7",
      "metadata": {
        "execution": {
          "iopub.execute_input": "2022-11-23T14:38:21.865636Z",
          "iopub.status.busy": "2022-11-23T14:38:21.864675Z",
          "iopub.status.idle": "2022-11-23T14:38:23.905582Z",
          "shell.execute_reply": "2022-11-23T14:38:23.904607Z",
          "shell.execute_reply.started": "2022-11-23T14:38:21.865589Z"
        },
        "papermill": {
          "duration": null,
          "end_time": null,
          "exception": null,
          "start_time": null,
          "status": "pending"
        },
        "tags": [],
        "colab": {
          "base_uri": "https://localhost:8080/"
        },
        "id": "1e75aeb7",
        "outputId": "a8133f1a-220d-4a68-8fe1-e733ca73a2e9"
      },
      "outputs": [
        {
          "output_type": "stream",
          "name": "stdout",
          "text": [
            "訓練準確率: 0.90710\n"
          ]
        }
      ],
      "source": [
        "xgboostModel = KNeighborsClassifier()\n",
        "xgboostModel.fit(train_X, train_Y)\n",
        "\n",
        "print('訓練準確率: %.5f' % xgboostModel.score(train_X, train_Y))"
      ]
    },
    {
      "cell_type": "markdown",
      "id": "0cb1faff",
      "metadata": {
        "papermill": {
          "duration": null,
          "end_time": null,
          "exception": null,
          "start_time": null,
          "status": "pending"
        },
        "tags": [],
        "id": "0cb1faff"
      },
      "source": [
        "將答案輸出成CSV"
      ]
    },
    {
      "cell_type": "code",
      "execution_count": null,
      "id": "d3ccad40",
      "metadata": {
        "execution": {
          "iopub.execute_input": "2022-11-23T14:38:23.908060Z",
          "iopub.status.busy": "2022-11-23T14:38:23.907149Z",
          "iopub.status.idle": "2022-11-23T14:38:23.925396Z",
          "shell.execute_reply": "2022-11-23T14:38:23.924400Z",
          "shell.execute_reply.started": "2022-11-23T14:38:23.908019Z"
        },
        "papermill": {
          "duration": null,
          "end_time": null,
          "exception": null,
          "start_time": null,
          "status": "pending"
        },
        "tags": [],
        "id": "d3ccad40"
      },
      "outputs": [],
      "source": [
        "predict_y = xgboostModel.predict(test)\n",
        "output = pd.DataFrame(predict_y)\n",
        "output.index = output.index.astype(float)\n",
        "output.to_csv(\"submission.csv\",header=['ans'],index_label='id')"
      ]
    }
  ],
  "metadata": {
    "kernelspec": {
      "display_name": "Python 3",
      "language": "python",
      "name": "python3"
    },
    "language_info": {
      "codemirror_mode": {
        "name": "ipython",
        "version": 3
      },
      "file_extension": ".py",
      "mimetype": "text/x-python",
      "name": "python",
      "nbconvert_exporter": "python",
      "pygments_lexer": "ipython3",
      "version": "3.7.12"
    },
    "papermill": {
      "default_parameters": {},
      "duration": 36.725563,
      "end_time": "2022-11-23T14:40:22.632692",
      "environment_variables": {},
      "exception": true,
      "input_path": "__notebook__.ipynb",
      "output_path": "__notebook__.ipynb",
      "parameters": {},
      "start_time": "2022-11-23T14:39:45.907129",
      "version": "2.3.4"
    },
    "colab": {
      "provenance": []
    },
    "gpuClass": "standard"
  },
  "nbformat": 4,
  "nbformat_minor": 5
}