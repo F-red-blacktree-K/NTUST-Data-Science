{
  "nbformat": 4,
  "nbformat_minor": 0,
  "metadata": {
    "colab": {
      "provenance": []
    },
    "kernelspec": {
      "name": "python3",
      "display_name": "Python 3"
    },
    "language_info": {
      "name": "python"
    },
    "gpuClass": "standard"
  },
  "cells": [
    {
      "cell_type": "markdown",
      "source": [
        "載入所需函式庫"
      ],
      "metadata": {
        "id": "wdeJEfbhhDp0"
      }
    },
    {
      "cell_type": "code",
      "source": [
        "import pandas as pd\n",
        "import numpy as np\n",
        "import matplotlib.pyplot as plt\n",
        "import seaborn as sns\n",
        "from sklearn.cluster import KMeans\n",
        "from sklearn.preprocessing import StandardScaler\n",
        "from sklearn.metrics import silhouette_samples, silhouette_score\n",
        "from google.colab import drive\n",
        "drive.mount(\"/content/drive\")\n",
        "%matplotlib inline"
      ],
      "metadata": {
        "id": "IWMSvKKphCBl"
      },
      "execution_count": null,
      "outputs": []
    },
    {
      "cell_type": "markdown",
      "source": [
        "載入相關資料"
      ],
      "metadata": {
        "id": "c5pukAUchdB6"
      }
    },
    {
      "cell_type": "code",
      "source": [
        "train = pd.read_csv(\"/content/drive/MyDrive/data2/train.csv\")\n",
        "test = pd.read_csv(\"/content/drive/MyDrive/data2/test_3000.csv\")"
      ],
      "metadata": {
        "id": "X8xNo_ZPJyHK"
      },
      "execution_count": null,
      "outputs": []
    },
    {
      "cell_type": "code",
      "source": [
        "train"
      ],
      "metadata": {
        "colab": {
          "base_uri": "https://localhost:8080/",
          "height": 505
        },
        "id": "OxTCAlz7yLXq",
        "outputId": "73cccbe3-ddef-49b5-dc8b-f1aab8c6331d"
      },
      "execution_count": null,
      "outputs": [
        {
          "output_type": "execute_result",
          "data": {
            "text/plain": [
              "       song_id  Feature 1  Feature 2  Feature 3  Feature 4  Feature 5  \\\n",
              "0            0    0.14700      0.798      0.745         46    111.016   \n",
              "1            1    0.06580      0.804      0.521         66    143.952   \n",
              "2            2    0.03950      0.960      0.755         67     99.023   \n",
              "3            3    0.35900      0.769      0.592         40    171.940   \n",
              "4            4    0.16000      0.838      0.769         83     93.996   \n",
              "...        ...        ...        ...        ...        ...        ...   \n",
              "40109    40109    0.00923      0.760      0.761         48    144.977   \n",
              "40110    40110    0.43000      0.533      0.495         50     79.710   \n",
              "40111    40111    0.03280      0.823      0.562         43    126.023   \n",
              "40112    40112    0.82500      0.281      0.420         46     89.423   \n",
              "40113    40113    0.08100      0.791      0.491         38     93.116   \n",
              "\n",
              "       Feature 6  Feature 7  Feature 8  Feature 9  Feature 10  Feature 11  \\\n",
              "0         0.1970      0.388     240000     -5.436      0.0384           1   \n",
              "1         0.0521      0.553     224700     -4.395      0.0569           0   \n",
              "2         0.3320      0.661     170440     -3.189      0.1230           1   \n",
              "3         0.1220      0.223     226520     -7.127      0.1900           1   \n",
              "4         0.0935      0.602     249609     -5.238      0.0633           0   \n",
              "...          ...        ...        ...        ...         ...         ...   \n",
              "40109     0.4690      0.492     249667     -6.275      0.3780           0   \n",
              "40110     0.1060      0.424     247055     -5.802      0.0295           1   \n",
              "40111     0.2120      0.376     194293     -4.732      0.0405           0   \n",
              "40112     0.1990      0.792     391613    -15.291      0.0445           0   \n",
              "40113     0.4470      0.880     196680     -8.801      0.0360           0   \n",
              "\n",
              "       Feature 12 Feature 13  \n",
              "0        0.651000          F  \n",
              "1        0.000000          C  \n",
              "2        0.000024          E  \n",
              "3        0.014300          D  \n",
              "4        0.000000          D  \n",
              "...           ...        ...  \n",
              "40109    0.000000          D  \n",
              "40110    0.000672          C  \n",
              "40111    0.000002          B  \n",
              "40112    0.000135         C#  \n",
              "40113    0.000007          G  \n",
              "\n",
              "[40114 rows x 14 columns]"
            ],
            "text/html": [
              "\n",
              "  <div id=\"df-091abd76-0b8b-4c84-bef5-96e6621a1823\">\n",
              "    <div class=\"colab-df-container\">\n",
              "      <div>\n",
              "<style scoped>\n",
              "    .dataframe tbody tr th:only-of-type {\n",
              "        vertical-align: middle;\n",
              "    }\n",
              "\n",
              "    .dataframe tbody tr th {\n",
              "        vertical-align: top;\n",
              "    }\n",
              "\n",
              "    .dataframe thead th {\n",
              "        text-align: right;\n",
              "    }\n",
              "</style>\n",
              "<table border=\"1\" class=\"dataframe\">\n",
              "  <thead>\n",
              "    <tr style=\"text-align: right;\">\n",
              "      <th></th>\n",
              "      <th>song_id</th>\n",
              "      <th>Feature 1</th>\n",
              "      <th>Feature 2</th>\n",
              "      <th>Feature 3</th>\n",
              "      <th>Feature 4</th>\n",
              "      <th>Feature 5</th>\n",
              "      <th>Feature 6</th>\n",
              "      <th>Feature 7</th>\n",
              "      <th>Feature 8</th>\n",
              "      <th>Feature 9</th>\n",
              "      <th>Feature 10</th>\n",
              "      <th>Feature 11</th>\n",
              "      <th>Feature 12</th>\n",
              "      <th>Feature 13</th>\n",
              "    </tr>\n",
              "  </thead>\n",
              "  <tbody>\n",
              "    <tr>\n",
              "      <th>0</th>\n",
              "      <td>0</td>\n",
              "      <td>0.14700</td>\n",
              "      <td>0.798</td>\n",
              "      <td>0.745</td>\n",
              "      <td>46</td>\n",
              "      <td>111.016</td>\n",
              "      <td>0.1970</td>\n",
              "      <td>0.388</td>\n",
              "      <td>240000</td>\n",
              "      <td>-5.436</td>\n",
              "      <td>0.0384</td>\n",
              "      <td>1</td>\n",
              "      <td>0.651000</td>\n",
              "      <td>F</td>\n",
              "    </tr>\n",
              "    <tr>\n",
              "      <th>1</th>\n",
              "      <td>1</td>\n",
              "      <td>0.06580</td>\n",
              "      <td>0.804</td>\n",
              "      <td>0.521</td>\n",
              "      <td>66</td>\n",
              "      <td>143.952</td>\n",
              "      <td>0.0521</td>\n",
              "      <td>0.553</td>\n",
              "      <td>224700</td>\n",
              "      <td>-4.395</td>\n",
              "      <td>0.0569</td>\n",
              "      <td>0</td>\n",
              "      <td>0.000000</td>\n",
              "      <td>C</td>\n",
              "    </tr>\n",
              "    <tr>\n",
              "      <th>2</th>\n",
              "      <td>2</td>\n",
              "      <td>0.03950</td>\n",
              "      <td>0.960</td>\n",
              "      <td>0.755</td>\n",
              "      <td>67</td>\n",
              "      <td>99.023</td>\n",
              "      <td>0.3320</td>\n",
              "      <td>0.661</td>\n",
              "      <td>170440</td>\n",
              "      <td>-3.189</td>\n",
              "      <td>0.1230</td>\n",
              "      <td>1</td>\n",
              "      <td>0.000024</td>\n",
              "      <td>E</td>\n",
              "    </tr>\n",
              "    <tr>\n",
              "      <th>3</th>\n",
              "      <td>3</td>\n",
              "      <td>0.35900</td>\n",
              "      <td>0.769</td>\n",
              "      <td>0.592</td>\n",
              "      <td>40</td>\n",
              "      <td>171.940</td>\n",
              "      <td>0.1220</td>\n",
              "      <td>0.223</td>\n",
              "      <td>226520</td>\n",
              "      <td>-7.127</td>\n",
              "      <td>0.1900</td>\n",
              "      <td>1</td>\n",
              "      <td>0.014300</td>\n",
              "      <td>D</td>\n",
              "    </tr>\n",
              "    <tr>\n",
              "      <th>4</th>\n",
              "      <td>4</td>\n",
              "      <td>0.16000</td>\n",
              "      <td>0.838</td>\n",
              "      <td>0.769</td>\n",
              "      <td>83</td>\n",
              "      <td>93.996</td>\n",
              "      <td>0.0935</td>\n",
              "      <td>0.602</td>\n",
              "      <td>249609</td>\n",
              "      <td>-5.238</td>\n",
              "      <td>0.0633</td>\n",
              "      <td>0</td>\n",
              "      <td>0.000000</td>\n",
              "      <td>D</td>\n",
              "    </tr>\n",
              "    <tr>\n",
              "      <th>...</th>\n",
              "      <td>...</td>\n",
              "      <td>...</td>\n",
              "      <td>...</td>\n",
              "      <td>...</td>\n",
              "      <td>...</td>\n",
              "      <td>...</td>\n",
              "      <td>...</td>\n",
              "      <td>...</td>\n",
              "      <td>...</td>\n",
              "      <td>...</td>\n",
              "      <td>...</td>\n",
              "      <td>...</td>\n",
              "      <td>...</td>\n",
              "      <td>...</td>\n",
              "    </tr>\n",
              "    <tr>\n",
              "      <th>40109</th>\n",
              "      <td>40109</td>\n",
              "      <td>0.00923</td>\n",
              "      <td>0.760</td>\n",
              "      <td>0.761</td>\n",
              "      <td>48</td>\n",
              "      <td>144.977</td>\n",
              "      <td>0.4690</td>\n",
              "      <td>0.492</td>\n",
              "      <td>249667</td>\n",
              "      <td>-6.275</td>\n",
              "      <td>0.3780</td>\n",
              "      <td>0</td>\n",
              "      <td>0.000000</td>\n",
              "      <td>D</td>\n",
              "    </tr>\n",
              "    <tr>\n",
              "      <th>40110</th>\n",
              "      <td>40110</td>\n",
              "      <td>0.43000</td>\n",
              "      <td>0.533</td>\n",
              "      <td>0.495</td>\n",
              "      <td>50</td>\n",
              "      <td>79.710</td>\n",
              "      <td>0.1060</td>\n",
              "      <td>0.424</td>\n",
              "      <td>247055</td>\n",
              "      <td>-5.802</td>\n",
              "      <td>0.0295</td>\n",
              "      <td>1</td>\n",
              "      <td>0.000672</td>\n",
              "      <td>C</td>\n",
              "    </tr>\n",
              "    <tr>\n",
              "      <th>40111</th>\n",
              "      <td>40111</td>\n",
              "      <td>0.03280</td>\n",
              "      <td>0.823</td>\n",
              "      <td>0.562</td>\n",
              "      <td>43</td>\n",
              "      <td>126.023</td>\n",
              "      <td>0.2120</td>\n",
              "      <td>0.376</td>\n",
              "      <td>194293</td>\n",
              "      <td>-4.732</td>\n",
              "      <td>0.0405</td>\n",
              "      <td>0</td>\n",
              "      <td>0.000002</td>\n",
              "      <td>B</td>\n",
              "    </tr>\n",
              "    <tr>\n",
              "      <th>40112</th>\n",
              "      <td>40112</td>\n",
              "      <td>0.82500</td>\n",
              "      <td>0.281</td>\n",
              "      <td>0.420</td>\n",
              "      <td>46</td>\n",
              "      <td>89.423</td>\n",
              "      <td>0.1990</td>\n",
              "      <td>0.792</td>\n",
              "      <td>391613</td>\n",
              "      <td>-15.291</td>\n",
              "      <td>0.0445</td>\n",
              "      <td>0</td>\n",
              "      <td>0.000135</td>\n",
              "      <td>C#</td>\n",
              "    </tr>\n",
              "    <tr>\n",
              "      <th>40113</th>\n",
              "      <td>40113</td>\n",
              "      <td>0.08100</td>\n",
              "      <td>0.791</td>\n",
              "      <td>0.491</td>\n",
              "      <td>38</td>\n",
              "      <td>93.116</td>\n",
              "      <td>0.4470</td>\n",
              "      <td>0.880</td>\n",
              "      <td>196680</td>\n",
              "      <td>-8.801</td>\n",
              "      <td>0.0360</td>\n",
              "      <td>0</td>\n",
              "      <td>0.000007</td>\n",
              "      <td>G</td>\n",
              "    </tr>\n",
              "  </tbody>\n",
              "</table>\n",
              "<p>40114 rows × 14 columns</p>\n",
              "</div>\n",
              "      <button class=\"colab-df-convert\" onclick=\"convertToInteractive('df-091abd76-0b8b-4c84-bef5-96e6621a1823')\"\n",
              "              title=\"Convert this dataframe to an interactive table.\"\n",
              "              style=\"display:none;\">\n",
              "        \n",
              "  <svg xmlns=\"http://www.w3.org/2000/svg\" height=\"24px\"viewBox=\"0 0 24 24\"\n",
              "       width=\"24px\">\n",
              "    <path d=\"M0 0h24v24H0V0z\" fill=\"none\"/>\n",
              "    <path d=\"M18.56 5.44l.94 2.06.94-2.06 2.06-.94-2.06-.94-.94-2.06-.94 2.06-2.06.94zm-11 1L8.5 8.5l.94-2.06 2.06-.94-2.06-.94L8.5 2.5l-.94 2.06-2.06.94zm10 10l.94 2.06.94-2.06 2.06-.94-2.06-.94-.94-2.06-.94 2.06-2.06.94z\"/><path d=\"M17.41 7.96l-1.37-1.37c-.4-.4-.92-.59-1.43-.59-.52 0-1.04.2-1.43.59L10.3 9.45l-7.72 7.72c-.78.78-.78 2.05 0 2.83L4 21.41c.39.39.9.59 1.41.59.51 0 1.02-.2 1.41-.59l7.78-7.78 2.81-2.81c.8-.78.8-2.07 0-2.86zM5.41 20L4 18.59l7.72-7.72 1.47 1.35L5.41 20z\"/>\n",
              "  </svg>\n",
              "      </button>\n",
              "      \n",
              "  <style>\n",
              "    .colab-df-container {\n",
              "      display:flex;\n",
              "      flex-wrap:wrap;\n",
              "      gap: 12px;\n",
              "    }\n",
              "\n",
              "    .colab-df-convert {\n",
              "      background-color: #E8F0FE;\n",
              "      border: none;\n",
              "      border-radius: 50%;\n",
              "      cursor: pointer;\n",
              "      display: none;\n",
              "      fill: #1967D2;\n",
              "      height: 32px;\n",
              "      padding: 0 0 0 0;\n",
              "      width: 32px;\n",
              "    }\n",
              "\n",
              "    .colab-df-convert:hover {\n",
              "      background-color: #E2EBFA;\n",
              "      box-shadow: 0px 1px 2px rgba(60, 64, 67, 0.3), 0px 1px 3px 1px rgba(60, 64, 67, 0.15);\n",
              "      fill: #174EA6;\n",
              "    }\n",
              "\n",
              "    [theme=dark] .colab-df-convert {\n",
              "      background-color: #3B4455;\n",
              "      fill: #D2E3FC;\n",
              "    }\n",
              "\n",
              "    [theme=dark] .colab-df-convert:hover {\n",
              "      background-color: #434B5C;\n",
              "      box-shadow: 0px 1px 3px 1px rgba(0, 0, 0, 0.15);\n",
              "      filter: drop-shadow(0px 1px 2px rgba(0, 0, 0, 0.3));\n",
              "      fill: #FFFFFF;\n",
              "    }\n",
              "  </style>\n",
              "\n",
              "      <script>\n",
              "        const buttonEl =\n",
              "          document.querySelector('#df-091abd76-0b8b-4c84-bef5-96e6621a1823 button.colab-df-convert');\n",
              "        buttonEl.style.display =\n",
              "          google.colab.kernel.accessAllowed ? 'block' : 'none';\n",
              "\n",
              "        async function convertToInteractive(key) {\n",
              "          const element = document.querySelector('#df-091abd76-0b8b-4c84-bef5-96e6621a1823');\n",
              "          const dataTable =\n",
              "            await google.colab.kernel.invokeFunction('convertToInteractive',\n",
              "                                                     [key], {});\n",
              "          if (!dataTable) return;\n",
              "\n",
              "          const docLinkHtml = 'Like what you see? Visit the ' +\n",
              "            '<a target=\"_blank\" href=https://colab.research.google.com/notebooks/data_table.ipynb>data table notebook</a>'\n",
              "            + ' to learn more about interactive tables.';\n",
              "          element.innerHTML = '';\n",
              "          dataTable['output_type'] = 'display_data';\n",
              "          await google.colab.output.renderOutput(dataTable, element);\n",
              "          const docLink = document.createElement('div');\n",
              "          docLink.innerHTML = docLinkHtml;\n",
              "          element.appendChild(docLink);\n",
              "        }\n",
              "      </script>\n",
              "    </div>\n",
              "  </div>\n",
              "  "
            ]
          },
          "metadata": {},
          "execution_count": 305
        }
      ]
    },
    {
      "cell_type": "markdown",
      "source": [
        "刪除song_id，因為跟資料預測沒有關係"
      ],
      "metadata": {
        "id": "pvLs_ka6Jnk5"
      }
    },
    {
      "cell_type": "code",
      "source": [
        "train = train.drop(['song_id'], axis = 1)"
      ],
      "metadata": {
        "id": "SGX_VEkEJxQI"
      },
      "execution_count": null,
      "outputs": []
    },
    {
      "cell_type": "markdown",
      "source": [
        "觀察類別型特徵有那一些"
      ],
      "metadata": {
        "id": "-wxgZvMHEJmD"
      }
    },
    {
      "cell_type": "code",
      "source": [
        "categorical = train.select_dtypes(include=['object'])\n",
        "categorical"
      ],
      "metadata": {
        "colab": {
          "base_uri": "https://localhost:8080/",
          "height": 424
        },
        "id": "FpGFNGaVEJ8L",
        "outputId": "828a0e0d-e71e-4444-b860-cbebfc178114"
      },
      "execution_count": null,
      "outputs": [
        {
          "output_type": "execute_result",
          "data": {
            "text/plain": [
              "      Feature 13\n",
              "0              F\n",
              "1              C\n",
              "2              E\n",
              "3              D\n",
              "4              D\n",
              "...          ...\n",
              "40109          D\n",
              "40110          C\n",
              "40111          B\n",
              "40112         C#\n",
              "40113          G\n",
              "\n",
              "[40114 rows x 1 columns]"
            ],
            "text/html": [
              "\n",
              "  <div id=\"df-47f540e7-29bf-4f26-a89e-0549b7680efa\">\n",
              "    <div class=\"colab-df-container\">\n",
              "      <div>\n",
              "<style scoped>\n",
              "    .dataframe tbody tr th:only-of-type {\n",
              "        vertical-align: middle;\n",
              "    }\n",
              "\n",
              "    .dataframe tbody tr th {\n",
              "        vertical-align: top;\n",
              "    }\n",
              "\n",
              "    .dataframe thead th {\n",
              "        text-align: right;\n",
              "    }\n",
              "</style>\n",
              "<table border=\"1\" class=\"dataframe\">\n",
              "  <thead>\n",
              "    <tr style=\"text-align: right;\">\n",
              "      <th></th>\n",
              "      <th>Feature 13</th>\n",
              "    </tr>\n",
              "  </thead>\n",
              "  <tbody>\n",
              "    <tr>\n",
              "      <th>0</th>\n",
              "      <td>F</td>\n",
              "    </tr>\n",
              "    <tr>\n",
              "      <th>1</th>\n",
              "      <td>C</td>\n",
              "    </tr>\n",
              "    <tr>\n",
              "      <th>2</th>\n",
              "      <td>E</td>\n",
              "    </tr>\n",
              "    <tr>\n",
              "      <th>3</th>\n",
              "      <td>D</td>\n",
              "    </tr>\n",
              "    <tr>\n",
              "      <th>4</th>\n",
              "      <td>D</td>\n",
              "    </tr>\n",
              "    <tr>\n",
              "      <th>...</th>\n",
              "      <td>...</td>\n",
              "    </tr>\n",
              "    <tr>\n",
              "      <th>40109</th>\n",
              "      <td>D</td>\n",
              "    </tr>\n",
              "    <tr>\n",
              "      <th>40110</th>\n",
              "      <td>C</td>\n",
              "    </tr>\n",
              "    <tr>\n",
              "      <th>40111</th>\n",
              "      <td>B</td>\n",
              "    </tr>\n",
              "    <tr>\n",
              "      <th>40112</th>\n",
              "      <td>C#</td>\n",
              "    </tr>\n",
              "    <tr>\n",
              "      <th>40113</th>\n",
              "      <td>G</td>\n",
              "    </tr>\n",
              "  </tbody>\n",
              "</table>\n",
              "<p>40114 rows × 1 columns</p>\n",
              "</div>\n",
              "      <button class=\"colab-df-convert\" onclick=\"convertToInteractive('df-47f540e7-29bf-4f26-a89e-0549b7680efa')\"\n",
              "              title=\"Convert this dataframe to an interactive table.\"\n",
              "              style=\"display:none;\">\n",
              "        \n",
              "  <svg xmlns=\"http://www.w3.org/2000/svg\" height=\"24px\"viewBox=\"0 0 24 24\"\n",
              "       width=\"24px\">\n",
              "    <path d=\"M0 0h24v24H0V0z\" fill=\"none\"/>\n",
              "    <path d=\"M18.56 5.44l.94 2.06.94-2.06 2.06-.94-2.06-.94-.94-2.06-.94 2.06-2.06.94zm-11 1L8.5 8.5l.94-2.06 2.06-.94-2.06-.94L8.5 2.5l-.94 2.06-2.06.94zm10 10l.94 2.06.94-2.06 2.06-.94-2.06-.94-.94-2.06-.94 2.06-2.06.94z\"/><path d=\"M17.41 7.96l-1.37-1.37c-.4-.4-.92-.59-1.43-.59-.52 0-1.04.2-1.43.59L10.3 9.45l-7.72 7.72c-.78.78-.78 2.05 0 2.83L4 21.41c.39.39.9.59 1.41.59.51 0 1.02-.2 1.41-.59l7.78-7.78 2.81-2.81c.8-.78.8-2.07 0-2.86zM5.41 20L4 18.59l7.72-7.72 1.47 1.35L5.41 20z\"/>\n",
              "  </svg>\n",
              "      </button>\n",
              "      \n",
              "  <style>\n",
              "    .colab-df-container {\n",
              "      display:flex;\n",
              "      flex-wrap:wrap;\n",
              "      gap: 12px;\n",
              "    }\n",
              "\n",
              "    .colab-df-convert {\n",
              "      background-color: #E8F0FE;\n",
              "      border: none;\n",
              "      border-radius: 50%;\n",
              "      cursor: pointer;\n",
              "      display: none;\n",
              "      fill: #1967D2;\n",
              "      height: 32px;\n",
              "      padding: 0 0 0 0;\n",
              "      width: 32px;\n",
              "    }\n",
              "\n",
              "    .colab-df-convert:hover {\n",
              "      background-color: #E2EBFA;\n",
              "      box-shadow: 0px 1px 2px rgba(60, 64, 67, 0.3), 0px 1px 3px 1px rgba(60, 64, 67, 0.15);\n",
              "      fill: #174EA6;\n",
              "    }\n",
              "\n",
              "    [theme=dark] .colab-df-convert {\n",
              "      background-color: #3B4455;\n",
              "      fill: #D2E3FC;\n",
              "    }\n",
              "\n",
              "    [theme=dark] .colab-df-convert:hover {\n",
              "      background-color: #434B5C;\n",
              "      box-shadow: 0px 1px 3px 1px rgba(0, 0, 0, 0.15);\n",
              "      filter: drop-shadow(0px 1px 2px rgba(0, 0, 0, 0.3));\n",
              "      fill: #FFFFFF;\n",
              "    }\n",
              "  </style>\n",
              "\n",
              "      <script>\n",
              "        const buttonEl =\n",
              "          document.querySelector('#df-47f540e7-29bf-4f26-a89e-0549b7680efa button.colab-df-convert');\n",
              "        buttonEl.style.display =\n",
              "          google.colab.kernel.accessAllowed ? 'block' : 'none';\n",
              "\n",
              "        async function convertToInteractive(key) {\n",
              "          const element = document.querySelector('#df-47f540e7-29bf-4f26-a89e-0549b7680efa');\n",
              "          const dataTable =\n",
              "            await google.colab.kernel.invokeFunction('convertToInteractive',\n",
              "                                                     [key], {});\n",
              "          if (!dataTable) return;\n",
              "\n",
              "          const docLinkHtml = 'Like what you see? Visit the ' +\n",
              "            '<a target=\"_blank\" href=https://colab.research.google.com/notebooks/data_table.ipynb>data table notebook</a>'\n",
              "            + ' to learn more about interactive tables.';\n",
              "          element.innerHTML = '';\n",
              "          dataTable['output_type'] = 'display_data';\n",
              "          await google.colab.output.renderOutput(dataTable, element);\n",
              "          const docLink = document.createElement('div');\n",
              "          docLink.innerHTML = docLinkHtml;\n",
              "          element.appendChild(docLink);\n",
              "        }\n",
              "      </script>\n",
              "    </div>\n",
              "  </div>\n",
              "  "
            ]
          },
          "metadata": {},
          "execution_count": 307
        }
      ]
    },
    {
      "cell_type": "markdown",
      "source": [
        "觀察類別型特徵中的標籤數量"
      ],
      "metadata": {
        "id": "H7gUJXqUEKH7"
      }
    },
    {
      "cell_type": "code",
      "source": [
        "train['Feature 13'].unique()"
      ],
      "metadata": {
        "colab": {
          "base_uri": "https://localhost:8080/"
        },
        "id": "__R9cCqpEKO-",
        "outputId": "40e66205-a6db-48a6-8a90-5b6f00892248"
      },
      "execution_count": null,
      "outputs": [
        {
          "output_type": "execute_result",
          "data": {
            "text/plain": [
              "array(['F', 'C', 'E', 'D', 'A', 'A#', 'C#', 'B', 'G', 'D#', 'G#', 'F#'],\n",
              "      dtype=object)"
            ]
          },
          "metadata": {},
          "execution_count": 308
        }
      ]
    },
    {
      "cell_type": "code",
      "source": [
        "for i in categorical:\n",
        "    print(i, ' contains ', train[i].nunique(), ' labels')"
      ],
      "metadata": {
        "colab": {
          "base_uri": "https://localhost:8080/"
        },
        "id": "lOiS-iY-EQOF",
        "outputId": "c2d4c6d2-f733-404d-84cd-dabea239e10c"
      },
      "execution_count": null,
      "outputs": [
        {
          "output_type": "stream",
          "name": "stdout",
          "text": [
            "Feature 13  contains  12  labels\n"
          ]
        }
      ]
    },
    {
      "cell_type": "markdown",
      "source": [
        "將類別資料按照Pitch class轉換成數值資料"
      ],
      "metadata": {
        "id": "lYLw8orPEQSl"
      }
    },
    {
      "cell_type": "code",
      "source": [
        "mapping = {'F': 5, 'C': 0, 'E': 4, 'D': 2, 'A': 9, 'A#': 10, 'C#': 1, 'B': 11, \n",
        "        'G': 7, 'D#': 3, 'G#': 8, 'F#': 6}\n",
        "train['Feature 13'] = train['Feature 13'].map(mapping)\n",
        "train"
      ],
      "metadata": {
        "colab": {
          "base_uri": "https://localhost:8080/",
          "height": 505
        },
        "id": "Hod5H5VTEWmU",
        "outputId": "2c42a692-5954-44bc-a97c-7bdcce78ac59"
      },
      "execution_count": null,
      "outputs": [
        {
          "output_type": "execute_result",
          "data": {
            "text/plain": [
              "       Feature 1  Feature 2  Feature 3  Feature 4  Feature 5  Feature 6  \\\n",
              "0        0.14700      0.798      0.745         46    111.016     0.1970   \n",
              "1        0.06580      0.804      0.521         66    143.952     0.0521   \n",
              "2        0.03950      0.960      0.755         67     99.023     0.3320   \n",
              "3        0.35900      0.769      0.592         40    171.940     0.1220   \n",
              "4        0.16000      0.838      0.769         83     93.996     0.0935   \n",
              "...          ...        ...        ...        ...        ...        ...   \n",
              "40109    0.00923      0.760      0.761         48    144.977     0.4690   \n",
              "40110    0.43000      0.533      0.495         50     79.710     0.1060   \n",
              "40111    0.03280      0.823      0.562         43    126.023     0.2120   \n",
              "40112    0.82500      0.281      0.420         46     89.423     0.1990   \n",
              "40113    0.08100      0.791      0.491         38     93.116     0.4470   \n",
              "\n",
              "       Feature 7  Feature 8  Feature 9  Feature 10  Feature 11  Feature 12  \\\n",
              "0          0.388     240000     -5.436      0.0384           1    0.651000   \n",
              "1          0.553     224700     -4.395      0.0569           0    0.000000   \n",
              "2          0.661     170440     -3.189      0.1230           1    0.000024   \n",
              "3          0.223     226520     -7.127      0.1900           1    0.014300   \n",
              "4          0.602     249609     -5.238      0.0633           0    0.000000   \n",
              "...          ...        ...        ...         ...         ...         ...   \n",
              "40109      0.492     249667     -6.275      0.3780           0    0.000000   \n",
              "40110      0.424     247055     -5.802      0.0295           1    0.000672   \n",
              "40111      0.376     194293     -4.732      0.0405           0    0.000002   \n",
              "40112      0.792     391613    -15.291      0.0445           0    0.000135   \n",
              "40113      0.880     196680     -8.801      0.0360           0    0.000007   \n",
              "\n",
              "       Feature 13  \n",
              "0               5  \n",
              "1               0  \n",
              "2               4  \n",
              "3               2  \n",
              "4               2  \n",
              "...           ...  \n",
              "40109           2  \n",
              "40110           0  \n",
              "40111          11  \n",
              "40112           1  \n",
              "40113           7  \n",
              "\n",
              "[40114 rows x 13 columns]"
            ],
            "text/html": [
              "\n",
              "  <div id=\"df-1cc483e7-825b-414b-9853-38ea6981810b\">\n",
              "    <div class=\"colab-df-container\">\n",
              "      <div>\n",
              "<style scoped>\n",
              "    .dataframe tbody tr th:only-of-type {\n",
              "        vertical-align: middle;\n",
              "    }\n",
              "\n",
              "    .dataframe tbody tr th {\n",
              "        vertical-align: top;\n",
              "    }\n",
              "\n",
              "    .dataframe thead th {\n",
              "        text-align: right;\n",
              "    }\n",
              "</style>\n",
              "<table border=\"1\" class=\"dataframe\">\n",
              "  <thead>\n",
              "    <tr style=\"text-align: right;\">\n",
              "      <th></th>\n",
              "      <th>Feature 1</th>\n",
              "      <th>Feature 2</th>\n",
              "      <th>Feature 3</th>\n",
              "      <th>Feature 4</th>\n",
              "      <th>Feature 5</th>\n",
              "      <th>Feature 6</th>\n",
              "      <th>Feature 7</th>\n",
              "      <th>Feature 8</th>\n",
              "      <th>Feature 9</th>\n",
              "      <th>Feature 10</th>\n",
              "      <th>Feature 11</th>\n",
              "      <th>Feature 12</th>\n",
              "      <th>Feature 13</th>\n",
              "    </tr>\n",
              "  </thead>\n",
              "  <tbody>\n",
              "    <tr>\n",
              "      <th>0</th>\n",
              "      <td>0.14700</td>\n",
              "      <td>0.798</td>\n",
              "      <td>0.745</td>\n",
              "      <td>46</td>\n",
              "      <td>111.016</td>\n",
              "      <td>0.1970</td>\n",
              "      <td>0.388</td>\n",
              "      <td>240000</td>\n",
              "      <td>-5.436</td>\n",
              "      <td>0.0384</td>\n",
              "      <td>1</td>\n",
              "      <td>0.651000</td>\n",
              "      <td>5</td>\n",
              "    </tr>\n",
              "    <tr>\n",
              "      <th>1</th>\n",
              "      <td>0.06580</td>\n",
              "      <td>0.804</td>\n",
              "      <td>0.521</td>\n",
              "      <td>66</td>\n",
              "      <td>143.952</td>\n",
              "      <td>0.0521</td>\n",
              "      <td>0.553</td>\n",
              "      <td>224700</td>\n",
              "      <td>-4.395</td>\n",
              "      <td>0.0569</td>\n",
              "      <td>0</td>\n",
              "      <td>0.000000</td>\n",
              "      <td>0</td>\n",
              "    </tr>\n",
              "    <tr>\n",
              "      <th>2</th>\n",
              "      <td>0.03950</td>\n",
              "      <td>0.960</td>\n",
              "      <td>0.755</td>\n",
              "      <td>67</td>\n",
              "      <td>99.023</td>\n",
              "      <td>0.3320</td>\n",
              "      <td>0.661</td>\n",
              "      <td>170440</td>\n",
              "      <td>-3.189</td>\n",
              "      <td>0.1230</td>\n",
              "      <td>1</td>\n",
              "      <td>0.000024</td>\n",
              "      <td>4</td>\n",
              "    </tr>\n",
              "    <tr>\n",
              "      <th>3</th>\n",
              "      <td>0.35900</td>\n",
              "      <td>0.769</td>\n",
              "      <td>0.592</td>\n",
              "      <td>40</td>\n",
              "      <td>171.940</td>\n",
              "      <td>0.1220</td>\n",
              "      <td>0.223</td>\n",
              "      <td>226520</td>\n",
              "      <td>-7.127</td>\n",
              "      <td>0.1900</td>\n",
              "      <td>1</td>\n",
              "      <td>0.014300</td>\n",
              "      <td>2</td>\n",
              "    </tr>\n",
              "    <tr>\n",
              "      <th>4</th>\n",
              "      <td>0.16000</td>\n",
              "      <td>0.838</td>\n",
              "      <td>0.769</td>\n",
              "      <td>83</td>\n",
              "      <td>93.996</td>\n",
              "      <td>0.0935</td>\n",
              "      <td>0.602</td>\n",
              "      <td>249609</td>\n",
              "      <td>-5.238</td>\n",
              "      <td>0.0633</td>\n",
              "      <td>0</td>\n",
              "      <td>0.000000</td>\n",
              "      <td>2</td>\n",
              "    </tr>\n",
              "    <tr>\n",
              "      <th>...</th>\n",
              "      <td>...</td>\n",
              "      <td>...</td>\n",
              "      <td>...</td>\n",
              "      <td>...</td>\n",
              "      <td>...</td>\n",
              "      <td>...</td>\n",
              "      <td>...</td>\n",
              "      <td>...</td>\n",
              "      <td>...</td>\n",
              "      <td>...</td>\n",
              "      <td>...</td>\n",
              "      <td>...</td>\n",
              "      <td>...</td>\n",
              "    </tr>\n",
              "    <tr>\n",
              "      <th>40109</th>\n",
              "      <td>0.00923</td>\n",
              "      <td>0.760</td>\n",
              "      <td>0.761</td>\n",
              "      <td>48</td>\n",
              "      <td>144.977</td>\n",
              "      <td>0.4690</td>\n",
              "      <td>0.492</td>\n",
              "      <td>249667</td>\n",
              "      <td>-6.275</td>\n",
              "      <td>0.3780</td>\n",
              "      <td>0</td>\n",
              "      <td>0.000000</td>\n",
              "      <td>2</td>\n",
              "    </tr>\n",
              "    <tr>\n",
              "      <th>40110</th>\n",
              "      <td>0.43000</td>\n",
              "      <td>0.533</td>\n",
              "      <td>0.495</td>\n",
              "      <td>50</td>\n",
              "      <td>79.710</td>\n",
              "      <td>0.1060</td>\n",
              "      <td>0.424</td>\n",
              "      <td>247055</td>\n",
              "      <td>-5.802</td>\n",
              "      <td>0.0295</td>\n",
              "      <td>1</td>\n",
              "      <td>0.000672</td>\n",
              "      <td>0</td>\n",
              "    </tr>\n",
              "    <tr>\n",
              "      <th>40111</th>\n",
              "      <td>0.03280</td>\n",
              "      <td>0.823</td>\n",
              "      <td>0.562</td>\n",
              "      <td>43</td>\n",
              "      <td>126.023</td>\n",
              "      <td>0.2120</td>\n",
              "      <td>0.376</td>\n",
              "      <td>194293</td>\n",
              "      <td>-4.732</td>\n",
              "      <td>0.0405</td>\n",
              "      <td>0</td>\n",
              "      <td>0.000002</td>\n",
              "      <td>11</td>\n",
              "    </tr>\n",
              "    <tr>\n",
              "      <th>40112</th>\n",
              "      <td>0.82500</td>\n",
              "      <td>0.281</td>\n",
              "      <td>0.420</td>\n",
              "      <td>46</td>\n",
              "      <td>89.423</td>\n",
              "      <td>0.1990</td>\n",
              "      <td>0.792</td>\n",
              "      <td>391613</td>\n",
              "      <td>-15.291</td>\n",
              "      <td>0.0445</td>\n",
              "      <td>0</td>\n",
              "      <td>0.000135</td>\n",
              "      <td>1</td>\n",
              "    </tr>\n",
              "    <tr>\n",
              "      <th>40113</th>\n",
              "      <td>0.08100</td>\n",
              "      <td>0.791</td>\n",
              "      <td>0.491</td>\n",
              "      <td>38</td>\n",
              "      <td>93.116</td>\n",
              "      <td>0.4470</td>\n",
              "      <td>0.880</td>\n",
              "      <td>196680</td>\n",
              "      <td>-8.801</td>\n",
              "      <td>0.0360</td>\n",
              "      <td>0</td>\n",
              "      <td>0.000007</td>\n",
              "      <td>7</td>\n",
              "    </tr>\n",
              "  </tbody>\n",
              "</table>\n",
              "<p>40114 rows × 13 columns</p>\n",
              "</div>\n",
              "      <button class=\"colab-df-convert\" onclick=\"convertToInteractive('df-1cc483e7-825b-414b-9853-38ea6981810b')\"\n",
              "              title=\"Convert this dataframe to an interactive table.\"\n",
              "              style=\"display:none;\">\n",
              "        \n",
              "  <svg xmlns=\"http://www.w3.org/2000/svg\" height=\"24px\"viewBox=\"0 0 24 24\"\n",
              "       width=\"24px\">\n",
              "    <path d=\"M0 0h24v24H0V0z\" fill=\"none\"/>\n",
              "    <path d=\"M18.56 5.44l.94 2.06.94-2.06 2.06-.94-2.06-.94-.94-2.06-.94 2.06-2.06.94zm-11 1L8.5 8.5l.94-2.06 2.06-.94-2.06-.94L8.5 2.5l-.94 2.06-2.06.94zm10 10l.94 2.06.94-2.06 2.06-.94-2.06-.94-.94-2.06-.94 2.06-2.06.94z\"/><path d=\"M17.41 7.96l-1.37-1.37c-.4-.4-.92-.59-1.43-.59-.52 0-1.04.2-1.43.59L10.3 9.45l-7.72 7.72c-.78.78-.78 2.05 0 2.83L4 21.41c.39.39.9.59 1.41.59.51 0 1.02-.2 1.41-.59l7.78-7.78 2.81-2.81c.8-.78.8-2.07 0-2.86zM5.41 20L4 18.59l7.72-7.72 1.47 1.35L5.41 20z\"/>\n",
              "  </svg>\n",
              "      </button>\n",
              "      \n",
              "  <style>\n",
              "    .colab-df-container {\n",
              "      display:flex;\n",
              "      flex-wrap:wrap;\n",
              "      gap: 12px;\n",
              "    }\n",
              "\n",
              "    .colab-df-convert {\n",
              "      background-color: #E8F0FE;\n",
              "      border: none;\n",
              "      border-radius: 50%;\n",
              "      cursor: pointer;\n",
              "      display: none;\n",
              "      fill: #1967D2;\n",
              "      height: 32px;\n",
              "      padding: 0 0 0 0;\n",
              "      width: 32px;\n",
              "    }\n",
              "\n",
              "    .colab-df-convert:hover {\n",
              "      background-color: #E2EBFA;\n",
              "      box-shadow: 0px 1px 2px rgba(60, 64, 67, 0.3), 0px 1px 3px 1px rgba(60, 64, 67, 0.15);\n",
              "      fill: #174EA6;\n",
              "    }\n",
              "\n",
              "    [theme=dark] .colab-df-convert {\n",
              "      background-color: #3B4455;\n",
              "      fill: #D2E3FC;\n",
              "    }\n",
              "\n",
              "    [theme=dark] .colab-df-convert:hover {\n",
              "      background-color: #434B5C;\n",
              "      box-shadow: 0px 1px 3px 1px rgba(0, 0, 0, 0.15);\n",
              "      filter: drop-shadow(0px 1px 2px rgba(0, 0, 0, 0.3));\n",
              "      fill: #FFFFFF;\n",
              "    }\n",
              "  </style>\n",
              "\n",
              "      <script>\n",
              "        const buttonEl =\n",
              "          document.querySelector('#df-1cc483e7-825b-414b-9853-38ea6981810b button.colab-df-convert');\n",
              "        buttonEl.style.display =\n",
              "          google.colab.kernel.accessAllowed ? 'block' : 'none';\n",
              "\n",
              "        async function convertToInteractive(key) {\n",
              "          const element = document.querySelector('#df-1cc483e7-825b-414b-9853-38ea6981810b');\n",
              "          const dataTable =\n",
              "            await google.colab.kernel.invokeFunction('convertToInteractive',\n",
              "                                                     [key], {});\n",
              "          if (!dataTable) return;\n",
              "\n",
              "          const docLinkHtml = 'Like what you see? Visit the ' +\n",
              "            '<a target=\"_blank\" href=https://colab.research.google.com/notebooks/data_table.ipynb>data table notebook</a>'\n",
              "            + ' to learn more about interactive tables.';\n",
              "          element.innerHTML = '';\n",
              "          dataTable['output_type'] = 'display_data';\n",
              "          await google.colab.output.renderOutput(dataTable, element);\n",
              "          const docLink = document.createElement('div');\n",
              "          docLink.innerHTML = docLinkHtml;\n",
              "          element.appendChild(docLink);\n",
              "        }\n",
              "      </script>\n",
              "    </div>\n",
              "  </div>\n",
              "  "
            ]
          },
          "metadata": {},
          "execution_count": 310
        }
      ]
    },
    {
      "cell_type": "markdown",
      "source": [
        "特徵標準化"
      ],
      "metadata": {
        "id": "kA6aZqxzZ3uU"
      }
    },
    {
      "cell_type": "code",
      "source": [
        "scaler = StandardScaler().fit(train)\n",
        "train_scaled = scaler.transform(train)\n",
        "train_scaled = pd.DataFrame(train_scaled, columns=train.columns)\n",
        "train_scaled"
      ],
      "metadata": {
        "colab": {
          "base_uri": "https://localhost:8080/",
          "height": 505
        },
        "id": "0XINVXCRZ4Cb",
        "outputId": "c429e490-61fb-4094-a997-b651a176754a"
      },
      "execution_count": null,
      "outputs": [
        {
          "output_type": "execute_result",
          "data": {
            "text/plain": [
              "       Feature 1  Feature 2  Feature 3  Feature 4  Feature 5  Feature 6  \\\n",
              "0      -0.467061   0.750530   1.039161   0.099224  -0.287206   0.019140   \n",
              "1      -0.705215   0.773241  -0.213183   1.391453   0.788367  -0.876465   \n",
              "2      -0.782352   1.363715   1.095069   1.456065  -0.678855   0.853555   \n",
              "3       0.154723   0.640763   0.183765  -0.288445   1.702355  -0.444424   \n",
              "4      -0.428932   0.901934   1.173341   2.489849  -0.843019  -0.620578   \n",
              "...          ...        ...        ...        ...        ...        ...   \n",
              "40109  -0.871132   0.606697   1.128614   0.228447   0.821839   1.700331   \n",
              "40110   0.362962  -0.252519  -0.358545   0.357670  -1.309549  -0.543317   \n",
              "40111  -0.802002   0.845158   0.016040  -0.094611   0.202869   0.111853   \n",
              "40112   1.521473  -1.206362  -0.777857   0.099224  -0.992357   0.031502   \n",
              "40113  -0.660635   0.724035  -0.380908  -0.417668  -0.871757   1.564353   \n",
              "\n",
              "       Feature 7  Feature 8  Feature 9  Feature 10  Feature 11  Feature 12  \\\n",
              "0      -0.278654  -0.050946   0.601983   -0.546951    1.332904    1.445996   \n",
              "1       0.389370  -0.189563   0.771083   -0.365293   -0.750242   -0.556674   \n",
              "2       0.826622  -0.681155   0.966985    0.283766    1.332904   -0.556599   \n",
              "3      -0.946678  -0.173074   0.327298    0.941662    1.332904   -0.512683   \n",
              "4       0.587753   0.036111   0.634146   -0.302449   -0.750242   -0.556674   \n",
              "...          ...        ...        ...         ...         ...         ...   \n",
              "40109   0.142404   0.036637   0.465696    2.787700   -0.750242   -0.556674   \n",
              "40110  -0.132903   0.012972   0.542530   -0.634343    1.332904   -0.554607   \n",
              "40111  -0.327237  -0.465048   0.716340   -0.526331   -0.750242   -0.556669   \n",
              "40112   1.356993   1.322658  -0.998858   -0.487053   -0.750242   -0.556259   \n",
              "40113   1.713272  -0.443422   0.055374   -0.570518   -0.750242   -0.556653   \n",
              "\n",
              "       Feature 13  \n",
              "0       -0.064287  \n",
              "1       -1.468112  \n",
              "2       -0.345052  \n",
              "3       -0.906582  \n",
              "4       -0.906582  \n",
              "...           ...  \n",
              "40109   -0.906582  \n",
              "40110   -1.468112  \n",
              "40111    1.620302  \n",
              "40112   -1.187347  \n",
              "40113    0.497242  \n",
              "\n",
              "[40114 rows x 13 columns]"
            ],
            "text/html": [
              "\n",
              "  <div id=\"df-dfd8ca14-6f90-4155-b004-d9273629450b\">\n",
              "    <div class=\"colab-df-container\">\n",
              "      <div>\n",
              "<style scoped>\n",
              "    .dataframe tbody tr th:only-of-type {\n",
              "        vertical-align: middle;\n",
              "    }\n",
              "\n",
              "    .dataframe tbody tr th {\n",
              "        vertical-align: top;\n",
              "    }\n",
              "\n",
              "    .dataframe thead th {\n",
              "        text-align: right;\n",
              "    }\n",
              "</style>\n",
              "<table border=\"1\" class=\"dataframe\">\n",
              "  <thead>\n",
              "    <tr style=\"text-align: right;\">\n",
              "      <th></th>\n",
              "      <th>Feature 1</th>\n",
              "      <th>Feature 2</th>\n",
              "      <th>Feature 3</th>\n",
              "      <th>Feature 4</th>\n",
              "      <th>Feature 5</th>\n",
              "      <th>Feature 6</th>\n",
              "      <th>Feature 7</th>\n",
              "      <th>Feature 8</th>\n",
              "      <th>Feature 9</th>\n",
              "      <th>Feature 10</th>\n",
              "      <th>Feature 11</th>\n",
              "      <th>Feature 12</th>\n",
              "      <th>Feature 13</th>\n",
              "    </tr>\n",
              "  </thead>\n",
              "  <tbody>\n",
              "    <tr>\n",
              "      <th>0</th>\n",
              "      <td>-0.467061</td>\n",
              "      <td>0.750530</td>\n",
              "      <td>1.039161</td>\n",
              "      <td>0.099224</td>\n",
              "      <td>-0.287206</td>\n",
              "      <td>0.019140</td>\n",
              "      <td>-0.278654</td>\n",
              "      <td>-0.050946</td>\n",
              "      <td>0.601983</td>\n",
              "      <td>-0.546951</td>\n",
              "      <td>1.332904</td>\n",
              "      <td>1.445996</td>\n",
              "      <td>-0.064287</td>\n",
              "    </tr>\n",
              "    <tr>\n",
              "      <th>1</th>\n",
              "      <td>-0.705215</td>\n",
              "      <td>0.773241</td>\n",
              "      <td>-0.213183</td>\n",
              "      <td>1.391453</td>\n",
              "      <td>0.788367</td>\n",
              "      <td>-0.876465</td>\n",
              "      <td>0.389370</td>\n",
              "      <td>-0.189563</td>\n",
              "      <td>0.771083</td>\n",
              "      <td>-0.365293</td>\n",
              "      <td>-0.750242</td>\n",
              "      <td>-0.556674</td>\n",
              "      <td>-1.468112</td>\n",
              "    </tr>\n",
              "    <tr>\n",
              "      <th>2</th>\n",
              "      <td>-0.782352</td>\n",
              "      <td>1.363715</td>\n",
              "      <td>1.095069</td>\n",
              "      <td>1.456065</td>\n",
              "      <td>-0.678855</td>\n",
              "      <td>0.853555</td>\n",
              "      <td>0.826622</td>\n",
              "      <td>-0.681155</td>\n",
              "      <td>0.966985</td>\n",
              "      <td>0.283766</td>\n",
              "      <td>1.332904</td>\n",
              "      <td>-0.556599</td>\n",
              "      <td>-0.345052</td>\n",
              "    </tr>\n",
              "    <tr>\n",
              "      <th>3</th>\n",
              "      <td>0.154723</td>\n",
              "      <td>0.640763</td>\n",
              "      <td>0.183765</td>\n",
              "      <td>-0.288445</td>\n",
              "      <td>1.702355</td>\n",
              "      <td>-0.444424</td>\n",
              "      <td>-0.946678</td>\n",
              "      <td>-0.173074</td>\n",
              "      <td>0.327298</td>\n",
              "      <td>0.941662</td>\n",
              "      <td>1.332904</td>\n",
              "      <td>-0.512683</td>\n",
              "      <td>-0.906582</td>\n",
              "    </tr>\n",
              "    <tr>\n",
              "      <th>4</th>\n",
              "      <td>-0.428932</td>\n",
              "      <td>0.901934</td>\n",
              "      <td>1.173341</td>\n",
              "      <td>2.489849</td>\n",
              "      <td>-0.843019</td>\n",
              "      <td>-0.620578</td>\n",
              "      <td>0.587753</td>\n",
              "      <td>0.036111</td>\n",
              "      <td>0.634146</td>\n",
              "      <td>-0.302449</td>\n",
              "      <td>-0.750242</td>\n",
              "      <td>-0.556674</td>\n",
              "      <td>-0.906582</td>\n",
              "    </tr>\n",
              "    <tr>\n",
              "      <th>...</th>\n",
              "      <td>...</td>\n",
              "      <td>...</td>\n",
              "      <td>...</td>\n",
              "      <td>...</td>\n",
              "      <td>...</td>\n",
              "      <td>...</td>\n",
              "      <td>...</td>\n",
              "      <td>...</td>\n",
              "      <td>...</td>\n",
              "      <td>...</td>\n",
              "      <td>...</td>\n",
              "      <td>...</td>\n",
              "      <td>...</td>\n",
              "    </tr>\n",
              "    <tr>\n",
              "      <th>40109</th>\n",
              "      <td>-0.871132</td>\n",
              "      <td>0.606697</td>\n",
              "      <td>1.128614</td>\n",
              "      <td>0.228447</td>\n",
              "      <td>0.821839</td>\n",
              "      <td>1.700331</td>\n",
              "      <td>0.142404</td>\n",
              "      <td>0.036637</td>\n",
              "      <td>0.465696</td>\n",
              "      <td>2.787700</td>\n",
              "      <td>-0.750242</td>\n",
              "      <td>-0.556674</td>\n",
              "      <td>-0.906582</td>\n",
              "    </tr>\n",
              "    <tr>\n",
              "      <th>40110</th>\n",
              "      <td>0.362962</td>\n",
              "      <td>-0.252519</td>\n",
              "      <td>-0.358545</td>\n",
              "      <td>0.357670</td>\n",
              "      <td>-1.309549</td>\n",
              "      <td>-0.543317</td>\n",
              "      <td>-0.132903</td>\n",
              "      <td>0.012972</td>\n",
              "      <td>0.542530</td>\n",
              "      <td>-0.634343</td>\n",
              "      <td>1.332904</td>\n",
              "      <td>-0.554607</td>\n",
              "      <td>-1.468112</td>\n",
              "    </tr>\n",
              "    <tr>\n",
              "      <th>40111</th>\n",
              "      <td>-0.802002</td>\n",
              "      <td>0.845158</td>\n",
              "      <td>0.016040</td>\n",
              "      <td>-0.094611</td>\n",
              "      <td>0.202869</td>\n",
              "      <td>0.111853</td>\n",
              "      <td>-0.327237</td>\n",
              "      <td>-0.465048</td>\n",
              "      <td>0.716340</td>\n",
              "      <td>-0.526331</td>\n",
              "      <td>-0.750242</td>\n",
              "      <td>-0.556669</td>\n",
              "      <td>1.620302</td>\n",
              "    </tr>\n",
              "    <tr>\n",
              "      <th>40112</th>\n",
              "      <td>1.521473</td>\n",
              "      <td>-1.206362</td>\n",
              "      <td>-0.777857</td>\n",
              "      <td>0.099224</td>\n",
              "      <td>-0.992357</td>\n",
              "      <td>0.031502</td>\n",
              "      <td>1.356993</td>\n",
              "      <td>1.322658</td>\n",
              "      <td>-0.998858</td>\n",
              "      <td>-0.487053</td>\n",
              "      <td>-0.750242</td>\n",
              "      <td>-0.556259</td>\n",
              "      <td>-1.187347</td>\n",
              "    </tr>\n",
              "    <tr>\n",
              "      <th>40113</th>\n",
              "      <td>-0.660635</td>\n",
              "      <td>0.724035</td>\n",
              "      <td>-0.380908</td>\n",
              "      <td>-0.417668</td>\n",
              "      <td>-0.871757</td>\n",
              "      <td>1.564353</td>\n",
              "      <td>1.713272</td>\n",
              "      <td>-0.443422</td>\n",
              "      <td>0.055374</td>\n",
              "      <td>-0.570518</td>\n",
              "      <td>-0.750242</td>\n",
              "      <td>-0.556653</td>\n",
              "      <td>0.497242</td>\n",
              "    </tr>\n",
              "  </tbody>\n",
              "</table>\n",
              "<p>40114 rows × 13 columns</p>\n",
              "</div>\n",
              "      <button class=\"colab-df-convert\" onclick=\"convertToInteractive('df-dfd8ca14-6f90-4155-b004-d9273629450b')\"\n",
              "              title=\"Convert this dataframe to an interactive table.\"\n",
              "              style=\"display:none;\">\n",
              "        \n",
              "  <svg xmlns=\"http://www.w3.org/2000/svg\" height=\"24px\"viewBox=\"0 0 24 24\"\n",
              "       width=\"24px\">\n",
              "    <path d=\"M0 0h24v24H0V0z\" fill=\"none\"/>\n",
              "    <path d=\"M18.56 5.44l.94 2.06.94-2.06 2.06-.94-2.06-.94-.94-2.06-.94 2.06-2.06.94zm-11 1L8.5 8.5l.94-2.06 2.06-.94-2.06-.94L8.5 2.5l-.94 2.06-2.06.94zm10 10l.94 2.06.94-2.06 2.06-.94-2.06-.94-.94-2.06-.94 2.06-2.06.94z\"/><path d=\"M17.41 7.96l-1.37-1.37c-.4-.4-.92-.59-1.43-.59-.52 0-1.04.2-1.43.59L10.3 9.45l-7.72 7.72c-.78.78-.78 2.05 0 2.83L4 21.41c.39.39.9.59 1.41.59.51 0 1.02-.2 1.41-.59l7.78-7.78 2.81-2.81c.8-.78.8-2.07 0-2.86zM5.41 20L4 18.59l7.72-7.72 1.47 1.35L5.41 20z\"/>\n",
              "  </svg>\n",
              "      </button>\n",
              "      \n",
              "  <style>\n",
              "    .colab-df-container {\n",
              "      display:flex;\n",
              "      flex-wrap:wrap;\n",
              "      gap: 12px;\n",
              "    }\n",
              "\n",
              "    .colab-df-convert {\n",
              "      background-color: #E8F0FE;\n",
              "      border: none;\n",
              "      border-radius: 50%;\n",
              "      cursor: pointer;\n",
              "      display: none;\n",
              "      fill: #1967D2;\n",
              "      height: 32px;\n",
              "      padding: 0 0 0 0;\n",
              "      width: 32px;\n",
              "    }\n",
              "\n",
              "    .colab-df-convert:hover {\n",
              "      background-color: #E2EBFA;\n",
              "      box-shadow: 0px 1px 2px rgba(60, 64, 67, 0.3), 0px 1px 3px 1px rgba(60, 64, 67, 0.15);\n",
              "      fill: #174EA6;\n",
              "    }\n",
              "\n",
              "    [theme=dark] .colab-df-convert {\n",
              "      background-color: #3B4455;\n",
              "      fill: #D2E3FC;\n",
              "    }\n",
              "\n",
              "    [theme=dark] .colab-df-convert:hover {\n",
              "      background-color: #434B5C;\n",
              "      box-shadow: 0px 1px 3px 1px rgba(0, 0, 0, 0.15);\n",
              "      filter: drop-shadow(0px 1px 2px rgba(0, 0, 0, 0.3));\n",
              "      fill: #FFFFFF;\n",
              "    }\n",
              "  </style>\n",
              "\n",
              "      <script>\n",
              "        const buttonEl =\n",
              "          document.querySelector('#df-dfd8ca14-6f90-4155-b004-d9273629450b button.colab-df-convert');\n",
              "        buttonEl.style.display =\n",
              "          google.colab.kernel.accessAllowed ? 'block' : 'none';\n",
              "\n",
              "        async function convertToInteractive(key) {\n",
              "          const element = document.querySelector('#df-dfd8ca14-6f90-4155-b004-d9273629450b');\n",
              "          const dataTable =\n",
              "            await google.colab.kernel.invokeFunction('convertToInteractive',\n",
              "                                                     [key], {});\n",
              "          if (!dataTable) return;\n",
              "\n",
              "          const docLinkHtml = 'Like what you see? Visit the ' +\n",
              "            '<a target=\"_blank\" href=https://colab.research.google.com/notebooks/data_table.ipynb>data table notebook</a>'\n",
              "            + ' to learn more about interactive tables.';\n",
              "          element.innerHTML = '';\n",
              "          dataTable['output_type'] = 'display_data';\n",
              "          await google.colab.output.renderOutput(dataTable, element);\n",
              "          const docLink = document.createElement('div');\n",
              "          docLink.innerHTML = docLinkHtml;\n",
              "          element.appendChild(docLink);\n",
              "        }\n",
              "      </script>\n",
              "    </div>\n",
              "  </div>\n",
              "  "
            ]
          },
          "metadata": {},
          "execution_count": 314
        }
      ]
    },
    {
      "cell_type": "markdown",
      "source": [
        "使用熱力圖觀察特徵間的關聯程度"
      ],
      "metadata": {
        "id": "wGGaW-gn9oor"
      }
    },
    {
      "cell_type": "code",
      "source": [
        "# 計算特徵之間的相關係數\n",
        "corr = train.corr()\n",
        "plt.figure(figsize=(12,12))\n",
        "ax = sns.heatmap(corr, square=True, annot=True, fmt='.2f', linecolor='white')\n",
        "ax.set_xticklabels(ax.get_xticklabels(), rotation=90)\n",
        "ax.set_yticklabels(ax.get_yticklabels(), rotation=30)   "
      ],
      "metadata": {
        "colab": {
          "base_uri": "https://localhost:8080/",
          "height": 945
        },
        "id": "0gyc8Ux79scR",
        "outputId": "af140e7e-50ea-4502-c741-6d1841647c9a"
      },
      "execution_count": null,
      "outputs": [
        {
          "output_type": "execute_result",
          "data": {
            "text/plain": [
              "[Text(0, 0.5, 'Feature 1'),\n",
              " Text(0, 1.5, 'Feature 2'),\n",
              " Text(0, 2.5, 'Feature 3'),\n",
              " Text(0, 3.5, 'Feature 4'),\n",
              " Text(0, 4.5, 'Feature 5'),\n",
              " Text(0, 5.5, 'Feature 6'),\n",
              " Text(0, 6.5, 'Feature 7'),\n",
              " Text(0, 7.5, 'Feature 8'),\n",
              " Text(0, 8.5, 'Feature 9'),\n",
              " Text(0, 9.5, 'Feature 10'),\n",
              " Text(0, 10.5, 'Feature 11'),\n",
              " Text(0, 11.5, 'Feature 12'),\n",
              " Text(0, 12.5, 'Feature 13')]"
            ]
          },
          "metadata": {},
          "execution_count": 315
        },
        {
          "output_type": "display_data",
          "data": {
            "text/plain": [
              "<Figure size 864x864 with 2 Axes>"
            ],
            "image/png": "[encoded data removed]"
          },
          "metadata": {
            "needs_background": "light"
          }
        }
      ]
    },
    {
      "cell_type": "markdown",
      "source": [
        "刪除特徵6、8，及刪除相關度高的2與9其中一個"
      ],
      "metadata": {
        "id": "N5H1K670Oiyk"
      }
    },
    {
      "cell_type": "code",
      "source": [
        "train_scaled = train_scaled.drop(['Feature 2'], axis = 1)\n",
        "train_scaled = train_scaled.drop(['Feature 6'], axis = 1)\n",
        "train_scaled = train_scaled.drop(['Feature 8'], axis = 1)"
      ],
      "metadata": {
        "colab": {
          "base_uri": "https://localhost:8080/",
          "height": 505
        },
        "id": "Jz7ngkPl0ybG",
        "outputId": "c93af939-5184-406e-a2b0-21192252de4e"
      },
      "execution_count": null,
      "outputs": [
        {
          "output_type": "execute_result",
          "data": {
            "text/plain": [
              "       Feature 1  Feature 3  Feature 4  Feature 5  Feature 7  Feature 9  \\\n",
              "0      -0.467061   1.039161   0.099224  -0.287206  -0.278654   0.601983   \n",
              "1      -0.705215  -0.213183   1.391453   0.788367   0.389370   0.771083   \n",
              "2      -0.782352   1.095069   1.456065  -0.678855   0.826622   0.966985   \n",
              "3       0.154723   0.183765  -0.288445   1.702355  -0.946678   0.327298   \n",
              "4      -0.428932   1.173341   2.489849  -0.843019   0.587753   0.634146   \n",
              "...          ...        ...        ...        ...        ...        ...   \n",
              "40109  -0.871132   1.128614   0.228447   0.821839   0.142404   0.465696   \n",
              "40110   0.362962  -0.358545   0.357670  -1.309549  -0.132903   0.542530   \n",
              "40111  -0.802002   0.016040  -0.094611   0.202869  -0.327237   0.716340   \n",
              "40112   1.521473  -0.777857   0.099224  -0.992357   1.356993  -0.998858   \n",
              "40113  -0.660635  -0.380908  -0.417668  -0.871757   1.713272   0.055374   \n",
              "\n",
              "       Feature 10  Feature 11  Feature 12  Feature 13  \n",
              "0       -0.546951    1.332904    1.445996   -0.064287  \n",
              "1       -0.365293   -0.750242   -0.556674   -1.468112  \n",
              "2        0.283766    1.332904   -0.556599   -0.345052  \n",
              "3        0.941662    1.332904   -0.512683   -0.906582  \n",
              "4       -0.302449   -0.750242   -0.556674   -0.906582  \n",
              "...           ...         ...         ...         ...  \n",
              "40109    2.787700   -0.750242   -0.556674   -0.906582  \n",
              "40110   -0.634343    1.332904   -0.554607   -1.468112  \n",
              "40111   -0.526331   -0.750242   -0.556669    1.620302  \n",
              "40112   -0.487053   -0.750242   -0.556259   -1.187347  \n",
              "40113   -0.570518   -0.750242   -0.556653    0.497242  \n",
              "\n",
              "[40114 rows x 10 columns]"
            ],
            "text/html": [
              "\n",
              "  <div id=\"df-86482c56-0961-451e-bfc7-42e4a57028de\">\n",
              "    <div class=\"colab-df-container\">\n",
              "      <div>\n",
              "<style scoped>\n",
              "    .dataframe tbody tr th:only-of-type {\n",
              "        vertical-align: middle;\n",
              "    }\n",
              "\n",
              "    .dataframe tbody tr th {\n",
              "        vertical-align: top;\n",
              "    }\n",
              "\n",
              "    .dataframe thead th {\n",
              "        text-align: right;\n",
              "    }\n",
              "</style>\n",
              "<table border=\"1\" class=\"dataframe\">\n",
              "  <thead>\n",
              "    <tr style=\"text-align: right;\">\n",
              "      <th></th>\n",
              "      <th>Feature 1</th>\n",
              "      <th>Feature 3</th>\n",
              "      <th>Feature 4</th>\n",
              "      <th>Feature 5</th>\n",
              "      <th>Feature 7</th>\n",
              "      <th>Feature 9</th>\n",
              "      <th>Feature 10</th>\n",
              "      <th>Feature 11</th>\n",
              "      <th>Feature 12</th>\n",
              "      <th>Feature 13</th>\n",
              "    </tr>\n",
              "  </thead>\n",
              "  <tbody>\n",
              "    <tr>\n",
              "      <th>0</th>\n",
              "      <td>-0.467061</td>\n",
              "      <td>1.039161</td>\n",
              "      <td>0.099224</td>\n",
              "      <td>-0.287206</td>\n",
              "      <td>-0.278654</td>\n",
              "      <td>0.601983</td>\n",
              "      <td>-0.546951</td>\n",
              "      <td>1.332904</td>\n",
              "      <td>1.445996</td>\n",
              "      <td>-0.064287</td>\n",
              "    </tr>\n",
              "    <tr>\n",
              "      <th>1</th>\n",
              "      <td>-0.705215</td>\n",
              "      <td>-0.213183</td>\n",
              "      <td>1.391453</td>\n",
              "      <td>0.788367</td>\n",
              "      <td>0.389370</td>\n",
              "      <td>0.771083</td>\n",
              "      <td>-0.365293</td>\n",
              "      <td>-0.750242</td>\n",
              "      <td>-0.556674</td>\n",
              "      <td>-1.468112</td>\n",
              "    </tr>\n",
              "    <tr>\n",
              "      <th>2</th>\n",
              "      <td>-0.782352</td>\n",
              "      <td>1.095069</td>\n",
              "      <td>1.456065</td>\n",
              "      <td>-0.678855</td>\n",
              "      <td>0.826622</td>\n",
              "      <td>0.966985</td>\n",
              "      <td>0.283766</td>\n",
              "      <td>1.332904</td>\n",
              "      <td>-0.556599</td>\n",
              "      <td>-0.345052</td>\n",
              "    </tr>\n",
              "    <tr>\n",
              "      <th>3</th>\n",
              "      <td>0.154723</td>\n",
              "      <td>0.183765</td>\n",
              "      <td>-0.288445</td>\n",
              "      <td>1.702355</td>\n",
              "      <td>-0.946678</td>\n",
              "      <td>0.327298</td>\n",
              "      <td>0.941662</td>\n",
              "      <td>1.332904</td>\n",
              "      <td>-0.512683</td>\n",
              "      <td>-0.906582</td>\n",
              "    </tr>\n",
              "    <tr>\n",
              "      <th>4</th>\n",
              "      <td>-0.428932</td>\n",
              "      <td>1.173341</td>\n",
              "      <td>2.489849</td>\n",
              "      <td>-0.843019</td>\n",
              "      <td>0.587753</td>\n",
              "      <td>0.634146</td>\n",
              "      <td>-0.302449</td>\n",
              "      <td>-0.750242</td>\n",
              "      <td>-0.556674</td>\n",
              "      <td>-0.906582</td>\n",
              "    </tr>\n",
              "    <tr>\n",
              "      <th>...</th>\n",
              "      <td>...</td>\n",
              "      <td>...</td>\n",
              "      <td>...</td>\n",
              "      <td>...</td>\n",
              "      <td>...</td>\n",
              "      <td>...</td>\n",
              "      <td>...</td>\n",
              "      <td>...</td>\n",
              "      <td>...</td>\n",
              "      <td>...</td>\n",
              "    </tr>\n",
              "    <tr>\n",
              "      <th>40109</th>\n",
              "      <td>-0.871132</td>\n",
              "      <td>1.128614</td>\n",
              "      <td>0.228447</td>\n",
              "      <td>0.821839</td>\n",
              "      <td>0.142404</td>\n",
              "      <td>0.465696</td>\n",
              "      <td>2.787700</td>\n",
              "      <td>-0.750242</td>\n",
              "      <td>-0.556674</td>\n",
              "      <td>-0.906582</td>\n",
              "    </tr>\n",
              "    <tr>\n",
              "      <th>40110</th>\n",
              "      <td>0.362962</td>\n",
              "      <td>-0.358545</td>\n",
              "      <td>0.357670</td>\n",
              "      <td>-1.309549</td>\n",
              "      <td>-0.132903</td>\n",
              "      <td>0.542530</td>\n",
              "      <td>-0.634343</td>\n",
              "      <td>1.332904</td>\n",
              "      <td>-0.554607</td>\n",
              "      <td>-1.468112</td>\n",
              "    </tr>\n",
              "    <tr>\n",
              "      <th>40111</th>\n",
              "      <td>-0.802002</td>\n",
              "      <td>0.016040</td>\n",
              "      <td>-0.094611</td>\n",
              "      <td>0.202869</td>\n",
              "      <td>-0.327237</td>\n",
              "      <td>0.716340</td>\n",
              "      <td>-0.526331</td>\n",
              "      <td>-0.750242</td>\n",
              "      <td>-0.556669</td>\n",
              "      <td>1.620302</td>\n",
              "    </tr>\n",
              "    <tr>\n",
              "      <th>40112</th>\n",
              "      <td>1.521473</td>\n",
              "      <td>-0.777857</td>\n",
              "      <td>0.099224</td>\n",
              "      <td>-0.992357</td>\n",
              "      <td>1.356993</td>\n",
              "      <td>-0.998858</td>\n",
              "      <td>-0.487053</td>\n",
              "      <td>-0.750242</td>\n",
              "      <td>-0.556259</td>\n",
              "      <td>-1.187347</td>\n",
              "    </tr>\n",
              "    <tr>\n",
              "      <th>40113</th>\n",
              "      <td>-0.660635</td>\n",
              "      <td>-0.380908</td>\n",
              "      <td>-0.417668</td>\n",
              "      <td>-0.871757</td>\n",
              "      <td>1.713272</td>\n",
              "      <td>0.055374</td>\n",
              "      <td>-0.570518</td>\n",
              "      <td>-0.750242</td>\n",
              "      <td>-0.556653</td>\n",
              "      <td>0.497242</td>\n",
              "    </tr>\n",
              "  </tbody>\n",
              "</table>\n",
              "<p>40114 rows × 10 columns</p>\n",
              "</div>\n",
              "      <button class=\"colab-df-convert\" onclick=\"convertToInteractive('df-86482c56-0961-451e-bfc7-42e4a57028de')\"\n",
              "              title=\"Convert this dataframe to an interactive table.\"\n",
              "              style=\"display:none;\">\n",
              "        \n",
              "  <svg xmlns=\"http://www.w3.org/2000/svg\" height=\"24px\"viewBox=\"0 0 24 24\"\n",
              "       width=\"24px\">\n",
              "    <path d=\"M0 0h24v24H0V0z\" fill=\"none\"/>\n",
              "    <path d=\"M18.56 5.44l.94 2.06.94-2.06 2.06-.94-2.06-.94-.94-2.06-.94 2.06-2.06.94zm-11 1L8.5 8.5l.94-2.06 2.06-.94-2.06-.94L8.5 2.5l-.94 2.06-2.06.94zm10 10l.94 2.06.94-2.06 2.06-.94-2.06-.94-.94-2.06-.94 2.06-2.06.94z\"/><path d=\"M17.41 7.96l-1.37-1.37c-.4-.4-.92-.59-1.43-.59-.52 0-1.04.2-1.43.59L10.3 9.45l-7.72 7.72c-.78.78-.78 2.05 0 2.83L4 21.41c.39.39.9.59 1.41.59.51 0 1.02-.2 1.41-.59l7.78-7.78 2.81-2.81c.8-.78.8-2.07 0-2.86zM5.41 20L4 18.59l7.72-7.72 1.47 1.35L5.41 20z\"/>\n",
              "  </svg>\n",
              "      </button>\n",
              "      \n",
              "  <style>\n",
              "    .colab-df-container {\n",
              "      display:flex;\n",
              "      flex-wrap:wrap;\n",
              "      gap: 12px;\n",
              "    }\n",
              "\n",
              "    .colab-df-convert {\n",
              "      background-color: #E8F0FE;\n",
              "      border: none;\n",
              "      border-radius: 50%;\n",
              "      cursor: pointer;\n",
              "      display: none;\n",
              "      fill: #1967D2;\n",
              "      height: 32px;\n",
              "      padding: 0 0 0 0;\n",
              "      width: 32px;\n",
              "    }\n",
              "\n",
              "    .colab-df-convert:hover {\n",
              "      background-color: #E2EBFA;\n",
              "      box-shadow: 0px 1px 2px rgba(60, 64, 67, 0.3), 0px 1px 3px 1px rgba(60, 64, 67, 0.15);\n",
              "      fill: #174EA6;\n",
              "    }\n",
              "\n",
              "    [theme=dark] .colab-df-convert {\n",
              "      background-color: #3B4455;\n",
              "      fill: #D2E3FC;\n",
              "    }\n",
              "\n",
              "    [theme=dark] .colab-df-convert:hover {\n",
              "      background-color: #434B5C;\n",
              "      box-shadow: 0px 1px 3px 1px rgba(0, 0, 0, 0.15);\n",
              "      filter: drop-shadow(0px 1px 2px rgba(0, 0, 0, 0.3));\n",
              "      fill: #FFFFFF;\n",
              "    }\n",
              "  </style>\n",
              "\n",
              "      <script>\n",
              "        const buttonEl =\n",
              "          document.querySelector('#df-86482c56-0961-451e-bfc7-42e4a57028de button.colab-df-convert');\n",
              "        buttonEl.style.display =\n",
              "          google.colab.kernel.accessAllowed ? 'block' : 'none';\n",
              "\n",
              "        async function convertToInteractive(key) {\n",
              "          const element = document.querySelector('#df-86482c56-0961-451e-bfc7-42e4a57028de');\n",
              "          const dataTable =\n",
              "            await google.colab.kernel.invokeFunction('convertToInteractive',\n",
              "                                                     [key], {});\n",
              "          if (!dataTable) return;\n",
              "\n",
              "          const docLinkHtml = 'Like what you see? Visit the ' +\n",
              "            '<a target=\"_blank\" href=https://colab.research.google.com/notebooks/data_table.ipynb>data table notebook</a>'\n",
              "            + ' to learn more about interactive tables.';\n",
              "          element.innerHTML = '';\n",
              "          dataTable['output_type'] = 'display_data';\n",
              "          await google.colab.output.renderOutput(dataTable, element);\n",
              "          const docLink = document.createElement('div');\n",
              "          docLink.innerHTML = docLinkHtml;\n",
              "          element.appendChild(docLink);\n",
              "        }\n",
              "      </script>\n",
              "    </div>\n",
              "  </div>\n",
              "  "
            ]
          },
          "metadata": {},
          "execution_count": 316
        }
      ]
    },
    {
      "cell_type": "code",
      "source": [
        "res = stats.probplot(train_scaled['Feature 3'], plot=plt)"
      ],
      "metadata": {
        "colab": {
          "base_uri": "https://localhost:8080/",
          "height": 296
        },
        "id": "MLNou292LPRB",
        "outputId": "201e8f9e-67ef-43b3-a9cd-1e7f051bc0be"
      },
      "execution_count": null,
      "outputs": [
        {
          "output_type": "display_data",
          "data": {
            "text/plain": [
              "<Figure size 432x288 with 1 Axes>"
            ],
            "image/png": "[encoded data removed]"
          },
          "metadata": {
            "needs_background": "light"
          }
        }
      ]
    },
    {
      "cell_type": "code",
      "source": [
        "res = stats.probplot(train_scaled['Feature 7'], plot=plt)"
      ],
      "metadata": {
        "colab": {
          "base_uri": "https://localhost:8080/",
          "height": 296
        },
        "id": "1n0QMovAR61w",
        "outputId": "68275ac1-9644-42b6-8542-906509079cf1"
      },
      "execution_count": null,
      "outputs": [
        {
          "output_type": "display_data",
          "data": {
            "text/plain": [
              "<Figure size 432x288 with 1 Axes>"
            ],
            "image/png": "[encoded data removed]"
          },
          "metadata": {
            "needs_background": "light"
          }
        }
      ]
    },
    {
      "cell_type": "code",
      "source": [
        "res = stats.probplot(train_scaled['Feature 9'], plot=plt)"
      ],
      "metadata": {
        "colab": {
          "base_uri": "https://localhost:8080/",
          "height": 296
        },
        "id": "RxpIlGGfLPdT",
        "outputId": "d99d48c4-b70b-4515-ae32-482494bff4ec"
      },
      "execution_count": null,
      "outputs": [
        {
          "output_type": "display_data",
          "data": {
            "text/plain": [
              "<Figure size 432x288 with 1 Axes>"
            ],
            "image/png": "[encoded data removed]"
          },
          "metadata": {
            "needs_background": "light"
          }
        }
      ]
    },
    {
      "cell_type": "code",
      "source": [
        "res = stats.probplot(train_scaled['Feature 10'], plot=plt)"
      ],
      "metadata": {
        "colab": {
          "base_uri": "https://localhost:8080/",
          "height": 296
        },
        "id": "Gab08RgXLPiX",
        "outputId": "41035970-aa5e-48f1-c50d-bb78364d532b"
      },
      "execution_count": null,
      "outputs": [
        {
          "output_type": "display_data",
          "data": {
            "text/plain": [
              "<Figure size 432x288 with 1 Axes>"
            ],
            "image/png": "[encoded data removed]"
          },
          "metadata": {
            "needs_background": "light"
          }
        }
      ]
    },
    {
      "cell_type": "markdown",
      "source": [
        "觀察峰度"
      ],
      "metadata": {
        "id": "INa8-_gLI_hh"
      }
    },
    {
      "cell_type": "code",
      "source": [
        "sns.displot(train_scaled['Feature 3'], kde=True)"
      ],
      "metadata": {
        "colab": {
          "base_uri": "https://localhost:8080/",
          "height": 386
        },
        "id": "i4zJcUaCH233",
        "outputId": "60e178c7-740a-4b79-f03d-a560fb534506"
      },
      "execution_count": null,
      "outputs": [
        {
          "output_type": "execute_result",
          "data": {
            "text/plain": [
              "<seaborn.axisgrid.FacetGrid at 0x7f5880127310>"
            ]
          },
          "metadata": {},
          "execution_count": 323
        },
        {
          "output_type": "display_data",
          "data": {
            "text/plain": [
              "<Figure size 360x360 with 1 Axes>"
            ],
            "image/png": "[encoded data removed]"
          },
          "metadata": {
            "needs_background": "light"
          }
        }
      ]
    },
    {
      "cell_type": "code",
      "source": [
        "sns.displot(train_scaled['Feature 4'], kde=True)"
      ],
      "metadata": {
        "colab": {
          "base_uri": "https://localhost:8080/",
          "height": 386
        },
        "id": "SlAZcWH9IP7L",
        "outputId": "7abb70d4-b311-4758-d226-2e083d5505c1"
      },
      "execution_count": null,
      "outputs": [
        {
          "output_type": "execute_result",
          "data": {
            "text/plain": [
              "<seaborn.axisgrid.FacetGrid at 0x7f5880166c40>"
            ]
          },
          "metadata": {},
          "execution_count": 324
        },
        {
          "output_type": "display_data",
          "data": {
            "text/plain": [
              "<Figure size 360x360 with 1 Axes>"
            ],
            "image/png": "[encoded data removed]"
          },
          "metadata": {
            "needs_background": "light"
          }
        }
      ]
    },
    {
      "cell_type": "code",
      "source": [
        "sns.displot(train_scaled['Feature 5'], kde=True)"
      ],
      "metadata": {
        "colab": {
          "base_uri": "https://localhost:8080/",
          "height": 386
        },
        "id": "F7Ybj3TtIQF3",
        "outputId": "83c224ca-2f0d-4d40-af15-67efe5e4315f"
      },
      "execution_count": null,
      "outputs": [
        {
          "output_type": "execute_result",
          "data": {
            "text/plain": [
              "<seaborn.axisgrid.FacetGrid at 0x7f58818e4c70>"
            ]
          },
          "metadata": {},
          "execution_count": 325
        },
        {
          "output_type": "display_data",
          "data": {
            "text/plain": [
              "<Figure size 360x360 with 1 Axes>"
            ],
            "image/png": "[encoded data removed]"
          },
          "metadata": {
            "needs_background": "light"
          }
        }
      ]
    },
    {
      "cell_type": "code",
      "source": [
        "sns.displot(train_scaled['Feature 7'], kde=True)"
      ],
      "metadata": {
        "colab": {
          "base_uri": "https://localhost:8080/",
          "height": 386
        },
        "id": "7xp6NfQOITEI",
        "outputId": "48d85249-84fe-4dd7-c4a1-1454661e5ec3"
      },
      "execution_count": null,
      "outputs": [
        {
          "output_type": "execute_result",
          "data": {
            "text/plain": [
              "<seaborn.axisgrid.FacetGrid at 0x7f587fe7cf10>"
            ]
          },
          "metadata": {},
          "execution_count": 326
        },
        {
          "output_type": "display_data",
          "data": {
            "text/plain": [
              "<Figure size 360x360 with 1 Axes>"
            ],
            "image/png": "[encoded data removed]"
          },
          "metadata": {
            "needs_background": "light"
          }
        }
      ]
    },
    {
      "cell_type": "code",
      "source": [
        "sns.displot(train_scaled['Feature 9'], kde=True)"
      ],
      "metadata": {
        "colab": {
          "base_uri": "https://localhost:8080/",
          "height": 386
        },
        "id": "fgolHI6hZ9Kg",
        "outputId": "59bf7d13-aeac-4197-b8db-0f6b6fb7406c"
      },
      "execution_count": null,
      "outputs": [
        {
          "output_type": "execute_result",
          "data": {
            "text/plain": [
              "<seaborn.axisgrid.FacetGrid at 0x7f587ff813a0>"
            ]
          },
          "metadata": {},
          "execution_count": 327
        },
        {
          "output_type": "display_data",
          "data": {
            "text/plain": [
              "<Figure size 360x360 with 1 Axes>"
            ],
            "image/png": "[encoded data removed]"
          },
          "metadata": {
            "needs_background": "light"
          }
        }
      ]
    },
    {
      "cell_type": "code",
      "source": [
        "sns.displot(train_scaled['Feature 10'], kde=True)"
      ],
      "metadata": {
        "colab": {
          "base_uri": "https://localhost:8080/",
          "height": 386
        },
        "id": "ZYdcZ-s2a6Jc",
        "outputId": "4b93eb19-edc5-4303-c2dc-935fbd2b7d51"
      },
      "execution_count": null,
      "outputs": [
        {
          "output_type": "execute_result",
          "data": {
            "text/plain": [
              "<seaborn.axisgrid.FacetGrid at 0x7f587fdea520>"
            ]
          },
          "metadata": {},
          "execution_count": 328
        },
        {
          "output_type": "display_data",
          "data": {
            "text/plain": [
              "<Figure size 360x360 with 1 Axes>"
            ],
            "image/png": "[encoded data removed]"
          },
          "metadata": {
            "needs_background": "light"
          }
        }
      ]
    },
    {
      "cell_type": "code",
      "source": [
        "sns.displot(train_scaled['Feature 11'], kde=True)"
      ],
      "metadata": {
        "colab": {
          "base_uri": "https://localhost:8080/",
          "height": 386
        },
        "id": "tc9DMfnoIXkF",
        "outputId": "4ef46663-bebc-4c5b-da15-ecc517388d26"
      },
      "execution_count": null,
      "outputs": [
        {
          "output_type": "execute_result",
          "data": {
            "text/plain": [
              "<seaborn.axisgrid.FacetGrid at 0x7f587ff34bb0>"
            ]
          },
          "metadata": {},
          "execution_count": 329
        },
        {
          "output_type": "display_data",
          "data": {
            "text/plain": [
              "<Figure size 360x360 with 1 Axes>"
            ],
            "image/png": "[encoded data removed]"
          },
          "metadata": {
            "needs_background": "light"
          }
        }
      ]
    },
    {
      "cell_type": "code",
      "source": [
        "sns.displot(train_scaled['Feature 12'], kde=True)"
      ],
      "metadata": {
        "colab": {
          "base_uri": "https://localhost:8080/",
          "height": 386
        },
        "id": "yHuGdIetIXlx",
        "outputId": "cbbab22d-1d25-43c9-e4f4-5f6f5b48de5d"
      },
      "execution_count": null,
      "outputs": [
        {
          "output_type": "execute_result",
          "data": {
            "text/plain": [
              "<seaborn.axisgrid.FacetGrid at 0x7f587fce8fa0>"
            ]
          },
          "metadata": {},
          "execution_count": 330
        },
        {
          "output_type": "display_data",
          "data": {
            "text/plain": [
              "<Figure size 360x360 with 1 Axes>"
            ],
            "image/png": "[encoded data removed]"
          },
          "metadata": {
            "needs_background": "light"
          }
        }
      ]
    },
    {
      "cell_type": "code",
      "source": [
        "sns.displot(train_scaled['Feature 13'], kde=True)"
      ],
      "metadata": {
        "colab": {
          "base_uri": "https://localhost:8080/",
          "height": 386
        },
        "id": "4QRCY19vIaLX",
        "outputId": "a362d31b-37df-4eed-d5b1-a27d5cc5652e"
      },
      "execution_count": null,
      "outputs": [
        {
          "output_type": "execute_result",
          "data": {
            "text/plain": [
              "<seaborn.axisgrid.FacetGrid at 0x7f587f78e880>"
            ]
          },
          "metadata": {},
          "execution_count": 331
        },
        {
          "output_type": "display_data",
          "data": {
            "text/plain": [
              "<Figure size 360x360 with 1 Axes>"
            ],
            "image/png": "[encoded data removed]"
          },
          "metadata": {
            "needs_background": "light"
          }
        }
      ]
    },
    {
      "cell_type": "code",
      "source": [
        "def Detect_outliers(df, feature_name):\n",
        "  plt.figure(figsize=(2,3))\n",
        "  df.boxplot(column = feature_name, grid = False, showmeans = True)\n",
        "Detect_outliers(train_scaled, \"Feature 9\")"
      ],
      "metadata": {
        "id": "0EaRcG-2Tdgn",
        "colab": {
          "base_uri": "https://localhost:8080/",
          "height": 207
        },
        "outputId": "f84d69c9-e689-4423-8469-d47b35f6ce54"
      },
      "execution_count": null,
      "outputs": [
        {
          "output_type": "display_data",
          "data": {
            "text/plain": [
              "<Figure size 144x216 with 1 Axes>"
            ],
            "image/png": "[encoded data removed]"
          },
          "metadata": {
            "needs_background": "light"
          }
        }
      ]
    },
    {
      "cell_type": "markdown",
      "source": [
        "訓練並預測"
      ],
      "metadata": {
        "id": "kUKFERj3KAhQ"
      }
    },
    {
      "cell_type": "code",
      "source": [
        "# 宣告 KMean 分群器, 對 X 訓練並預測\n",
        "clusterer = KMeans(n_clusters = 2)\n",
        "cluster_labels = clusterer.fit_predict(train_scaled)"
      ],
      "metadata": {
        "id": "nMQOrCaSp5k9"
      },
      "execution_count": null,
      "outputs": []
    },
    {
      "cell_type": "markdown",
      "source": [
        "答案輸出成CSV"
      ],
      "metadata": {
        "id": "Ac0lFeahCzTi"
      }
    },
    {
      "cell_type": "code",
      "source": [
        "kmeans_label = clusterer.labels_\n",
        "ans = np.empty(test.shape[0], dtype=int)\n",
        "\n",
        "for i in range(test.shape[0]):\n",
        "  if kmeans_label[test.at[i, 'col_1']] == kmeans_label[test.at[i, 'col_2']] and DBSCAN_label[test.at[i, 'col_1']] == DBSCAN_label[test.at[i, 'col_2']]:\n",
        "    ans[i] = 1\n",
        "  else:\n",
        "    ans[i] = 0\n",
        "\n",
        "output = pd.DataFrame(ans)\n",
        "output.to_csv(\"submission.csv\",header=['ans'],index_label='id')\n",
        "\n"
      ],
      "metadata": {
        "id": "m9i_xZgNGHzU"
      },
      "execution_count": null,
      "outputs": []
    }
  ]
}